{
 "cells": [
  {
   "cell_type": "code",
   "execution_count": 1,
   "metadata": {},
   "outputs": [],
   "source": [
    "import sys\n",
    "PATH_TO_ROOT='D:/My Repository'\n",
    "sys.path.insert(0, PATH_TO_ROOT)"
   ]
  },
  {
   "cell_type": "code",
   "execution_count": 2,
   "metadata": {},
   "outputs": [],
   "source": [
    "import pandas as pd\n",
    "import numpy as np\n",
    "from scipy.interpolate import NearestNDInterpolator\n",
    "from scipy.interpolate import RBFInterpolator\n",
    "from loess import loess_2d\n",
    "import matplotlib.pyplot as plt\n",
    "\n",
    "from AlphaMobileSensing.env import environment_v1"
   ]
  },
  {
   "cell_type": "code",
   "execution_count": 4,
   "metadata": {},
   "outputs": [
    {
     "name": "stderr",
     "output_type": "stream",
     "text": [
      "C:\\Users\\qizho\\AppData\\Roaming\\Python\\Python39\\site-packages\\gym\\spaces\\box.py:112: UserWarning: \u001b[33mWARN: Box bound precision lowered by casting to float64\u001b[0m\n",
      "  logger.warn(f\"Box bound precision lowered by casting to {self.dtype}\")\n"
     ]
    }
   ],
   "source": [
    "datapath='D:/Research Working Folder/Paper_1-Mobile Sensing Virtual Environment/static_50cm_DEMO.csv'\n",
    "env=environment_v1.AlphaMoSeEnv(datapath, 2500, 1, 15, (3.5, 3), 2, (0.5, 0.5), 500)\n",
    "action_series_df=pd.read_excel('D:/My Repository/AlphaMobileSensing/data/action series for demo.xlsx')"
   ]
  },
  {
   "cell_type": "code",
   "execution_count": 5,
   "metadata": {},
   "outputs": [
    {
     "name": "stdout",
     "output_type": "stream",
     "text": [
      "Episode: 1\n",
      "Total moving distance (m)\n",
      "204.0\n",
      "Total moving time (s)\n",
      "1390.0\n"
     ]
    }
   ],
   "source": [
    "env.reset()\n",
    "measurement_log=np.zeros(((len(action_series_df)+1),4))\n",
    "measurement_log[0,:]=env.obs[:]\n",
    "for i in range(len(action_series_df)):\n",
    "    env.step(action_series_df.iloc[i,:].values)\n",
    "    measurement_log[i+1,:]=env.obs[:]"
   ]
  },
  {
   "cell_type": "code",
   "execution_count": 6,
   "metadata": {},
   "outputs": [],
   "source": [
    "x=measurement_log[0:41,0]\n",
    "y=measurement_log[0:41,1]\n",
    "T=measurement_log[0:41,3]\n",
    "\n",
    "X = np.linspace(-0.5, 73.55, 100)\n",
    "Y = np.linspace(-3, 22.95, 100)\n",
    "X, Y = np.meshgrid(X, Y) \n",
    "\n",
    "interp = NearestNDInterpolator(list(zip(x, y)), T)\n",
    "Z = interp(X, Y)"
   ]
  },
  {
   "cell_type": "code",
   "execution_count": 7,
   "metadata": {},
   "outputs": [],
   "source": [
    "data=env.stdata[['X', 'Y']]\n",
    "delta=1.5\n",
    "\n",
    "for i in range(100):\n",
    "    for j in range(100):\n",
    "        bb=np.array([X[0,i], Y[j,0]])\n",
    "        judge_array=[0,0,0,0]\n",
    "        window_data=data.loc[(data['X']>(bb[0]-delta)) & (data['X']<(bb[0]+delta)) & \n",
    "        (data['Y']>(bb[1]-delta)) & (data['Y']<(bb[1]+delta)), ['X', 'Y']]\n",
    "        judge_array[0]=window_data.loc[(window_data['X']<bb[0]) & (window_data['Y']<bb[1])].empty\n",
    "        judge_array[1]=window_data.loc[(window_data['X']<bb[0]) & (window_data['Y']>bb[1])].empty\n",
    "        judge_array[2]=window_data.loc[(window_data['X']>bb[0]) & (window_data['Y']<bb[1])].empty\n",
    "        judge_array[3]=window_data.loc[(window_data['X']>bb[0]) & (window_data['Y']>bb[1])].empty\n",
    "        if True in judge_array:\n",
    "            Z[j,i]=np.nan "
   ]
  },
  {
   "cell_type": "code",
   "execution_count": 8,
   "metadata": {},
   "outputs": [
    {
     "data": {
      "text/plain": [
       "(-0.5, 73.55, -3.0, 22.95)"
      ]
     },
     "execution_count": 8,
     "metadata": {},
     "output_type": "execute_result"
    },
    {
     "data": {
      "image/png": "[encoded data removed]",
      "text/plain": [
       "<Figure size 1296x432 with 1 Axes>"
      ]
     },
     "metadata": {
      "needs_background": "light"
     },
     "output_type": "display_data"
    }
   ],
   "source": [
    "fig, ax=plt.subplots(1,1,figsize=(18,6))\n",
    "im=ax.pcolormesh(X, Y, Z, shading='auto', cmap='rainbow', vmin=293, vmax=313)\n",
    "im_m=ax.plot(x, y, \"ok\", label=\"input point\")\n",
    "\n",
    "ax.set_xlim(-0.5,73.55)\n",
    "ax.set_ylim(-3,22.95)\n",
    "\n",
    "ax.spines['left'].set_visible(False)\n",
    "ax.spines['top'].set_visible(False)\n",
    "ax.spines['right'].set_visible(False)\n",
    "ax.spines['bottom'].set_visible(False)\n",
    "ax.axis('off')"
   ]
  },
  {
   "cell_type": "code",
   "execution_count": 12,
   "metadata": {},
   "outputs": [],
   "source": [
    "env.request_evaluation()"
   ]
  },
  {
   "cell_type": "code",
   "execution_count": 13,
   "metadata": {},
   "outputs": [
    {
     "data": {
      "text/plain": [
       "1.0944703058416385"
      ]
     },
     "execution_count": 13,
     "metadata": {},
     "output_type": "execute_result"
    }
   ],
   "source": [
    "template=pd.read_csv('D:/My Repository/AlphaMobileSensing/demo/Template_demo_Static_NN.csv')\n",
    "\n",
    "X=template.iloc[:,1].values\n",
    "Y=template.iloc[:,2].values\n",
    "Z=interp(X, Y)\n",
    "\n",
    "for i in range(len(template)):\n",
    "    template.iloc[i,3]=Z[i]\n",
    "\n",
    "template.to_csv('D:/My Repository/AlphaMobileSensing/demo/Template_demo_Static_NN.csv', index=0)\n",
    "\n",
    "env.compute_accuracy()"
   ]
  },
  {
   "cell_type": "code",
   "execution_count": null,
   "metadata": {},
   "outputs": [],
   "source": []
  },
  {
   "cell_type": "code",
   "execution_count": null,
   "metadata": {},
   "outputs": [],
   "source": [
    "x=measurement_log[0:41,0]\n",
    "y=measurement_log[0:41,1]\n",
    "T=measurement_log[0:41,3]\n",
    "\n",
    "xobs=np.zeros((41,2))\n",
    "for i in range(41):\n",
    "    xobs[i,0]=x[i]\n",
    "    xobs[i,1]=y[i]\n",
    "\n",
    "xgrid=np.mgrid[-0.5:73.55:100j, -3:22.95:100j]\n",
    "xflat = xgrid.reshape(2, -1).T\n",
    "\n",
    "yflat = RBFInterpolator(xobs, T)(xflat)"
   ]
  },
  {
   "cell_type": "code",
   "execution_count": null,
   "metadata": {},
   "outputs": [],
   "source": [
    "delta=1.5\n",
    "\n",
    "for i in range(10000):\n",
    "    bb=xflat[i,:]\n",
    "    judge_array=[0,0,0,0]\n",
    "    window_data=data.loc[(data['X']>(bb[0]-delta)) & (data['X']<(bb[0]+delta)) & \n",
    "    (data['Y']>(bb[1]-delta)) & (data['Y']<(bb[1]+delta)), ['X', 'Y']]\n",
    "    judge_array[0]=window_data.loc[(window_data['X']<bb[0]) & (window_data['Y']<bb[1])].empty\n",
    "    judge_array[1]=window_data.loc[(window_data['X']<bb[0]) & (window_data['Y']>bb[1])].empty\n",
    "    judge_array[2]=window_data.loc[(window_data['X']>bb[0]) & (window_data['Y']<bb[1])].empty\n",
    "    judge_array[3]=window_data.loc[(window_data['X']>bb[0]) & (window_data['Y']>bb[1])].empty\n",
    "    if True in judge_array:\n",
    "        yflat[i]=np.nan \n",
    "\n",
    "\n",
    "ygrid = yflat.reshape(100, 100)"
   ]
  },
  {
   "cell_type": "code",
   "execution_count": null,
   "metadata": {},
   "outputs": [],
   "source": [
    "fig, ax=plt.subplots(1,1,figsize=(18,6))\n",
    "im=ax.pcolormesh(*xgrid, ygrid, shading='auto', cmap='rainbow', vmin=293, vmax=313)\n",
    "im_m=ax.plot(x, y, \"ok\", label=\"input point\")\n",
    "\n",
    "\n",
    "ax.set_xlim(-0.5,73.55)\n",
    "ax.set_ylim(-3,22.95)\n",
    "\n",
    "ax.spines['left'].set_visible(False)\n",
    "ax.spines['top'].set_visible(False)\n",
    "ax.spines['right'].set_visible(False)\n",
    "ax.spines['bottom'].set_visible(False)\n",
    "ax.axis('off')"
   ]
  },
  {
   "cell_type": "code",
   "execution_count": null,
   "metadata": {},
   "outputs": [],
   "source": [
    "env.request_evaluation()"
   ]
  },
  {
   "cell_type": "code",
   "execution_count": null,
   "metadata": {},
   "outputs": [],
   "source": [
    "template=pd.read_csv('D:/My Repository/AlphaMobileSensing/demo/Template_demo_Static_RBF.csv')\n",
    "\n",
    "xflat=np.zeros((len(template),2))\n",
    "xflat[:,0]=template.iloc[:,1].values\n",
    "xflat[:,1]=template.iloc[:,2].values\n",
    "\n",
    "\n",
    "Z = RBFInterpolator(xobs, T)(xflat)\n",
    "\n",
    "\n",
    "for i in range(len(template)):\n",
    "    template.iloc[i,3]=Z[i]\n",
    "\n",
    "template.to_csv('D:/My Repository/AlphaMobileSensing/demo/Template_demo_Static_RBF.csv', index=0)\n",
    "\n",
    "env.compute_accuracy()"
   ]
  },
  {
   "cell_type": "code",
   "execution_count": null,
   "metadata": {},
   "outputs": [],
   "source": []
  },
  {
   "cell_type": "code",
   "execution_count": null,
   "metadata": {},
   "outputs": [],
   "source": [
    "x=measurement_log[0:41,0]\n",
    "y=measurement_log[0:41,1]\n",
    "z=measurement_log[0:41,3]\n",
    "\n",
    "xgrid=np.mgrid[-0.5:73.55:100j, -3:22.95:100j]\n",
    "xflat = xgrid.reshape(2, -1).T\n",
    "\n",
    "newz=loess_2d.loess_2d(x,y,z, xflat[:,0], xflat[:,1])"
   ]
  },
  {
   "cell_type": "code",
   "execution_count": null,
   "metadata": {},
   "outputs": [],
   "source": [
    "delta=1.5\n",
    "\n",
    "for i in range(10000):\n",
    "    bb=xflat[i,:]\n",
    "    judge_array=[0,0,0,0]\n",
    "    window_data=data.loc[(data['X']>(bb[0]-delta)) & (data['X']<(bb[0]+delta)) & \n",
    "    (data['Y']>(bb[1]-delta)) & (data['Y']<(bb[1]+delta)), ['X', 'Y']]\n",
    "    judge_array[0]=window_data.loc[(window_data['X']<bb[0]) & (window_data['Y']<bb[1])].empty\n",
    "    judge_array[1]=window_data.loc[(window_data['X']<bb[0]) & (window_data['Y']>bb[1])].empty\n",
    "    judge_array[2]=window_data.loc[(window_data['X']>bb[0]) & (window_data['Y']<bb[1])].empty\n",
    "    judge_array[3]=window_data.loc[(window_data['X']>bb[0]) & (window_data['Y']>bb[1])].empty\n",
    "    if True in judge_array:\n",
    "        newz[0][i]=np.nan \n",
    "\n",
    "\n",
    "ygrid = newz[0].reshape(100, 100)"
   ]
  },
  {
   "cell_type": "code",
   "execution_count": null,
   "metadata": {},
   "outputs": [],
   "source": [
    "fig, ax=plt.subplots(1,1,figsize=(18,6))\n",
    "im=ax.pcolormesh(*xgrid, ygrid, shading='auto', cmap='rainbow', vmin=293, vmax=313)\n",
    "im_m=ax.plot(x, y, \"ok\", label=\"input point\")\n",
    "\n",
    "ax.set_xlim(-0.5,73.55)\n",
    "ax.set_ylim(-3,22.95)\n",
    "\n",
    "ax.spines['left'].set_visible(False)\n",
    "ax.spines['top'].set_visible(False)\n",
    "ax.spines['right'].set_visible(False)\n",
    "ax.spines['bottom'].set_visible(False)\n",
    "ax.axis('off')"
   ]
  },
  {
   "cell_type": "code",
   "execution_count": null,
   "metadata": {},
   "outputs": [],
   "source": [
    "env.request_evaluation()"
   ]
  },
  {
   "cell_type": "code",
   "execution_count": null,
   "metadata": {},
   "outputs": [],
   "source": [
    "template=pd.read_csv('D:/My Repository/AlphaMobileSensing/demo/Template_demo_Static_LOWESS.csv')\n",
    "\n",
    "xflat=np.zeros((len(template),2))\n",
    "xflat[:,0]=template.iloc[:,1].values\n",
    "xflat[:,1]=template.iloc[:,2].values\n",
    "\n",
    "Z=loess_2d.loess_2d(x,y,z, xflat[:,0], xflat[:,1])\n",
    "\n",
    "\n",
    "for i in range(len(template)):\n",
    "    template.iloc[i,3]=Z[0][i]\n",
    "\n",
    "template.to_csv('D:/My Repository/AlphaMobileSensing/demo/Template_demo_Static_LOWESS.csv', index=0)\n",
    "\n",
    "env.compute_accuracy()"
   ]
  }
 ],
 "metadata": {
  "kernelspec": {
   "display_name": "Python 3.9.12 ('base')",
   "language": "python",
   "name": "python3"
  },
  "language_info": {
   "codemirror_mode": {
    "name": "ipython",
    "version": 3
   },
   "file_extension": ".py",
   "mimetype": "text/x-python",
   "name": "python",
   "nbconvert_exporter": "python",
   "pygments_lexer": "ipython3",
   "version": "3.9.12"
  },
  "orig_nbformat": 4,
  "vscode": {
   "interpreter": {
    "hash": "ad2bdc8ecc057115af97d19610ffacc2b4e99fae6737bb82f5d7fb13d2f2c186"
   }
  }
 },
 "nbformat": 4,
 "nbformat_minor": 2
}
