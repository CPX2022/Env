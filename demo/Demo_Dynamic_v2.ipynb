{
 "cells": [
  {
   "cell_type": "code",
   "execution_count": 1,
   "metadata": {},
   "outputs": [],
   "source": [
    "import sys\n",
    "PATH_TO_ROOT='D:/My Repository'\n",
    "sys.path.insert(0, PATH_TO_ROOT)"
   ]
  },
  {
   "cell_type": "code",
   "execution_count": 43,
   "metadata": {},
   "outputs": [],
   "source": [
    "import pandas as pd\n",
    "import numpy as np\n",
    "from loess import loess_1d\n",
    "from sklearn import linear_model\n",
    "import matplotlib.pyplot as plt\n",
    "\n",
    "from AlphaMobileSensing.env import environment_v2"
   ]
  },
  {
   "cell_type": "code",
   "execution_count": 44,
   "metadata": {},
   "outputs": [
    {
     "name": "stderr",
     "output_type": "stream",
     "text": [
      "C:\\Users\\qizho\\AppData\\Roaming\\Python\\Python39\\site-packages\\gym\\spaces\\box.py:112: UserWarning: \u001b[33mWARN: Box bound precision lowered by casting to float64\u001b[0m\n",
      "  logger.warn(f\"Box bound precision lowered by casting to {self.dtype}\")\n"
     ]
    }
   ],
   "source": [
    "datapath='D:/Research Working Folder/Paper_1-Mobile Sensing Virtual Environment/dynamic_50cm_DEMO.csv'\n",
    "env=environment_v2.AlphaMoSeEnv(datapath, 2500, 1, 1, (15, ), ((3.5, 3),), 2, (0.5, 0.5), 500)\n",
    "action_series_df=pd.read_excel('D:/My Repository/AlphaMobileSensing/data/action series for demo.xlsx')"
   ]
  },
  {
   "cell_type": "markdown",
   "metadata": {},
   "source": [
    "t=1065s"
   ]
  },
  {
   "cell_type": "code",
   "execution_count": 45,
   "metadata": {},
   "outputs": [],
   "source": [
    "env.reset()\n",
    "\n",
    "num_agent=1\n",
    "\n",
    "measurement_log_raw=np.full((len(action_series_df)-21+1,4*num_agent), np.nan)\n",
    "\n",
    "for i in range(num_agent):\n",
    "    measurement_log_raw[0,4*i:4*(i+1)]=env.obs[i]\n",
    "\n",
    "\n",
    "for i in range(len(action_series_df)-21):\n",
    " \n",
    "    action=[]\n",
    "    for j in range(num_agent):\n",
    "        array=action_series_df.iloc[i,4*j:4*(j+1)].values\n",
    "        action.append(array)\n",
    "\n",
    "    step_log=env.step(action)\n",
    "\n",
    "    \n",
    "    if step_log[0]==True:\n",
    "        break\n",
    "    else:\n",
    "        for j in range(num_agent):\n",
    "            measurement_log_raw[i+1,4*j:4*(j+1)]=env.obs[j]"
   ]
  },
  {
   "cell_type": "code",
   "execution_count": 46,
   "metadata": {},
   "outputs": [
    {
     "data": {
      "text/plain": [
       "array([1065.])"
      ]
     },
     "execution_count": 46,
     "metadata": {},
     "output_type": "execute_result"
    }
   ],
   "source": [
    "env.agent_global_time"
   ]
  },
  {
   "cell_type": "code",
   "execution_count": 47,
   "metadata": {},
   "outputs": [],
   "source": [
    "measurement_log_middle=np.zeros(((len(action_series_df)-21+1)*num_agent,4))\n",
    "for i in range(num_agent):\n",
    "    measurement_log_middle[(len(action_series_df)-21+1)*i:(len(action_series_df)-21+1)*(i+1),:]=measurement_log_raw[:,4*i:4*(i+1)]\n",
    "\n",
    "\n",
    "b=measurement_log_middle[:,2]\n",
    "index=np.lexsort((b,))\n",
    "measurement_log_middle=measurement_log_middle[index]\n",
    "\n",
    "\n",
    "measurement_log=measurement_log_middle[~np.isnan(measurement_log_middle)]\n",
    "measurement_log=measurement_log.reshape((-1,4))"
   ]
  },
  {
   "cell_type": "code",
   "execution_count": 48,
   "metadata": {},
   "outputs": [],
   "source": [
    "x=measurement_log[:,0]\n",
    "y=measurement_log[:,1]\n",
    "t=measurement_log[:, 2]\n",
    "v=measurement_log[:, 3]\n",
    "\n",
    "fglobal=loess_1d.loess_1d(x=t,y=v, xnew=t)\n",
    "\n",
    "r_i=v-fglobal[1]"
   ]
  },
  {
   "cell_type": "code",
   "execution_count": 49,
   "metadata": {},
   "outputs": [],
   "source": [
    "nor_measurement_log=np.zeros_like(measurement_log)\n",
    "for i in range(3):\n",
    "    nor_measurement_log[:,i]=(measurement_log[:,i]-measurement_log[:,i].min())/(measurement_log[:,i].max()-measurement_log[:,i].min())"
   ]
  },
  {
   "cell_type": "code",
   "execution_count": 50,
   "metadata": {},
   "outputs": [
    {
     "data": {
      "text/plain": [
       "LinearRegression()"
      ]
     },
     "execution_count": 50,
     "metadata": {},
     "output_type": "execute_result"
    }
   ],
   "source": [
    "reg=linear_model.LinearRegression()\n",
    "reg.fit(nor_measurement_log[:, 0:3], r_i)"
   ]
  },
  {
   "cell_type": "code",
   "execution_count": 51,
   "metadata": {},
   "outputs": [],
   "source": [
    "target_time=1065\n",
    "\n",
    "xgrid=np.mgrid[-0.5:73.55:100j, -3:22.95:100j]\n",
    "xflat = xgrid.reshape(2, -1).T\n",
    "t_array=np.zeros((10000,1))+target_time\n",
    "xflat=np.concatenate([xflat, t_array], axis=1)\n",
    "\n",
    "nor_xflat=np.zeros((10000,3))\n",
    "for i in range(3):\n",
    "    nor_xflat[:,i]=(xflat[:,i]-measurement_log[:,i].min())/(measurement_log[:,i].max()-measurement_log[:,i].min())\n",
    "    \n",
    "\n",
    "fglobal=loess_1d.loess_1d(x=t,y=v, xnew=np.array([target_time]))\n",
    "\n",
    "newz=fglobal[1]+reg.intercept_+reg.coef_[0]*nor_xflat[:,0]+reg.coef_[1]*nor_xflat[:,1]+reg.coef_[2]*nor_xflat[:,2]"
   ]
  },
  {
   "cell_type": "code",
   "execution_count": 52,
   "metadata": {},
   "outputs": [],
   "source": [
    "data=env.stdata[['X', 'Y']]\n",
    "\n",
    "delta=1.5\n",
    "\n",
    "for i in range(10000):\n",
    "    bb=xflat[i,:]\n",
    "    judge_array=[0,0,0,0]\n",
    "    window_data=data.loc[(data['X']>(bb[0]-delta)) & (data['X']<(bb[0]+delta)) & \n",
    "    (data['Y']>(bb[1]-delta)) & (data['Y']<(bb[1]+delta)), ['X', 'Y']]\n",
    "    judge_array[0]=window_data.loc[(window_data['X']<bb[0]) & (window_data['Y']<bb[1])].empty\n",
    "    judge_array[1]=window_data.loc[(window_data['X']<bb[0]) & (window_data['Y']>bb[1])].empty\n",
    "    judge_array[2]=window_data.loc[(window_data['X']>bb[0]) & (window_data['Y']<bb[1])].empty\n",
    "    judge_array[3]=window_data.loc[(window_data['X']>bb[0]) & (window_data['Y']>bb[1])].empty\n",
    "    if True in judge_array:\n",
    "        newz[i]=np.nan \n",
    "\n",
    "\n",
    "ygrid = newz.reshape(100, 100)"
   ]
  },
  {
   "cell_type": "code",
   "execution_count": 53,
   "metadata": {},
   "outputs": [
    {
     "data": {
      "text/plain": [
       "(-0.5, 73.55, -3.0, 22.95)"
      ]
     },
     "execution_count": 53,
     "metadata": {},
     "output_type": "execute_result"
    },
    {
     "data": {
      "image/png": "[encoded data removed]",
      "text/plain": [
       "<Figure size 1296x432 with 1 Axes>"
      ]
     },
     "metadata": {
      "needs_background": "light"
     },
     "output_type": "display_data"
    }
   ],
   "source": [
    "fig, ax=plt.subplots(1,1,figsize=(18,6))\n",
    "im=ax.pcolormesh(*xgrid, ygrid, shading='auto', cmap='rainbow', vmin=295, vmax=301)\n",
    "im_m=ax.plot(x, y, \"ok\", label=\"input point\")\n",
    "\n",
    "ax.set_xlim(-0.5,73.55)\n",
    "ax.set_ylim(-3,22.95)\n",
    "\n",
    "ax.spines['left'].set_visible(False)\n",
    "ax.spines['top'].set_visible(False)\n",
    "ax.spines['right'].set_visible(False)\n",
    "ax.spines['bottom'].set_visible(False)\n",
    "ax.axis('off')"
   ]
  },
  {
   "cell_type": "code",
   "execution_count": null,
   "metadata": {},
   "outputs": [],
   "source": [
    "env.request_evaluation()"
   ]
  },
  {
   "cell_type": "code",
   "execution_count": null,
   "metadata": {},
   "outputs": [],
   "source": [
    "template=pd.read_csv('D:/My Repository/AlphaMobileSensing/demo/Template_demo_Dynamic_1065.csv')\n",
    "\n",
    "X=template.iloc[:,1].values\n",
    "Y=template.iloc[:,2].values\n",
    "\n",
    "nor_X=np.zeros(len(template))\n",
    "nor_Y=np.zeros(len(template))\n",
    "\n",
    "for i in range(2):\n",
    "    nor_X[:]=(X[:]-measurement_log[:,i].min())/(measurement_log[:,i].max()-measurement_log[:,i].min())\n",
    "    nor_Y[:]=(Y[:]-measurement_log[:,i].min())/(measurement_log[:,i].max()-measurement_log[:,i].min())\n",
    "\n",
    "Z=fglobal[1]+reg.intercept_+reg.coef_[0]*nor_X[:]+reg.coef_[1]*nor_Y[:]+reg.coef_[2]*nor_xflat[0,2]\n",
    "\n",
    "for i in range(len(template)):\n",
    "    template.iloc[i,3]=Z[i]\n",
    "\n",
    "template.to_csv('D:/My Repository/AlphaMobileSensing/demo/Template_demo_Dynamic_1065.csv', index=0)\n",
    "\n",
    "env.compute_accuracy()"
   ]
  },
  {
   "cell_type": "markdown",
   "metadata": {},
   "source": [
    "t=2005s"
   ]
  },
  {
   "cell_type": "code",
   "execution_count": 33,
   "metadata": {},
   "outputs": [
    {
     "name": "stdout",
     "output_type": "stream",
     "text": [
      "Episode: 6\n",
      "Total moving distance of each agent (m)\n",
      "[204.]\n",
      "Total moving time of each agent (s)\n",
      "[1390.]\n"
     ]
    }
   ],
   "source": [
    "env.reset()\n",
    "\n",
    "num_agent=1\n",
    "\n",
    "\n",
    "measurement_log_raw=np.full((len(action_series_df)+1,4*num_agent), np.nan)\n",
    "\n",
    "for i in range(num_agent):\n",
    "    measurement_log_raw[0,4*i:4*(i+1)]=env.obs[i]\n",
    "\n",
    "\n",
    "for i in range(len(action_series_df)):\n",
    " \n",
    "    action=[]\n",
    "    for j in range(num_agent):\n",
    "        array=action_series_df.iloc[i,4*j:4*(j+1)].values\n",
    "        action.append(array)\n",
    "\n",
    "    step_log=env.step(action)\n",
    "\n",
    "    \n",
    "    if step_log[0]==True:\n",
    "        break\n",
    "    else:\n",
    "        for j in range(num_agent):\n",
    "            measurement_log_raw[i+1,4*j:4*(j+1)]=env.obs[j]"
   ]
  },
  {
   "cell_type": "code",
   "execution_count": 34,
   "metadata": {},
   "outputs": [
    {
     "data": {
      "text/plain": [
       "array([2005.])"
      ]
     },
     "execution_count": 34,
     "metadata": {},
     "output_type": "execute_result"
    }
   ],
   "source": [
    "env.agent_global_time"
   ]
  },
  {
   "cell_type": "code",
   "execution_count": 35,
   "metadata": {},
   "outputs": [],
   "source": [
    "measurement_log_middle=np.zeros(((len(action_series_df)+1)*num_agent,4))\n",
    "for i in range(num_agent):\n",
    "    measurement_log_middle[(len(action_series_df)+1)*i:(len(action_series_df)+1)*(i+1),:]=measurement_log_raw[:,4*i:4*(i+1)]\n",
    "\n",
    "b=measurement_log_middle[:,2]\n",
    "index=np.lexsort((b,))\n",
    "measurement_log_middle=measurement_log_middle[index]\n",
    "\n",
    "\n",
    "measurement_log=measurement_log_middle[~np.isnan(measurement_log_middle)]\n",
    "measurement_log=measurement_log.reshape((-1,4))"
   ]
  },
  {
   "cell_type": "code",
   "execution_count": 37,
   "metadata": {},
   "outputs": [],
   "source": [
    "x=measurement_log[:-1,0]\n",
    "y=measurement_log[:-1,1]\n",
    "t=measurement_log[:-1, 2]\n",
    "v=measurement_log[:-1, 3]\n",
    "\n",
    "fglobal=loess_1d.loess_1d(x=t,y=v, xnew=t)\n",
    "r_i=v-fglobal[1]"
   ]
  },
  {
   "cell_type": "code",
   "execution_count": 38,
   "metadata": {},
   "outputs": [],
   "source": [
    "nor_measurement_log=np.zeros_like(measurement_log)\n",
    "for i in range(3):\n",
    "    nor_measurement_log[:,i]=(measurement_log[:,i]-measurement_log[:,i].min())/(measurement_log[:,i].max()-measurement_log[:,i].min())"
   ]
  },
  {
   "cell_type": "code",
   "execution_count": 39,
   "metadata": {},
   "outputs": [
    {
     "data": {
      "text/plain": [
       "LinearRegression()"
      ]
     },
     "execution_count": 39,
     "metadata": {},
     "output_type": "execute_result"
    }
   ],
   "source": [
    "reg=linear_model.LinearRegression()\n",
    "reg.fit(nor_measurement_log[:-1, 0:3], r_i)"
   ]
  },
  {
   "cell_type": "code",
   "execution_count": 40,
   "metadata": {},
   "outputs": [],
   "source": [
    "target_time=2005\n",
    "\n",
    "xgrid=np.mgrid[-0.5:73.55:100j, -3:22.95:100j]\n",
    "xflat = xgrid.reshape(2, -1).T\n",
    "t_array=np.zeros((10000,1))+target_time\n",
    "xflat=np.concatenate([xflat, t_array], axis=1)\n",
    "\n",
    "nor_xflat=np.zeros((10000,3))\n",
    "for i in range(3):\n",
    "    nor_xflat[:,i]=(xflat[:,i]-measurement_log[:,i].min())/(measurement_log[:,i].max()-measurement_log[:,i].min())\n",
    "    \n",
    "\n",
    "fglobal=loess_1d.loess_1d(x=t,y=v, xnew=np.array([target_time]))\n",
    "\n",
    "newz=fglobal[1]+reg.intercept_+reg.coef_[0]*nor_xflat[:,0]+reg.coef_[1]*nor_xflat[:,1]+reg.coef_[2]*nor_xflat[:,2]"
   ]
  },
  {
   "cell_type": "code",
   "execution_count": 41,
   "metadata": {},
   "outputs": [],
   "source": [
    "data=env.stdata[['X', 'Y']]\n",
    "\n",
    "delta=1.5\n",
    "\n",
    "for i in range(10000):\n",
    "    bb=xflat[i,:]\n",
    "    judge_array=[0,0,0,0]\n",
    "    window_data=data.loc[(data['X']>(bb[0]-delta)) & (data['X']<(bb[0]+delta)) & \n",
    "    (data['Y']>(bb[1]-delta)) & (data['Y']<(bb[1]+delta)), ['X', 'Y']]\n",
    "    judge_array[0]=window_data.loc[(window_data['X']<bb[0]) & (window_data['Y']<bb[1])].empty\n",
    "    judge_array[1]=window_data.loc[(window_data['X']<bb[0]) & (window_data['Y']>bb[1])].empty\n",
    "    judge_array[2]=window_data.loc[(window_data['X']>bb[0]) & (window_data['Y']<bb[1])].empty\n",
    "    judge_array[3]=window_data.loc[(window_data['X']>bb[0]) & (window_data['Y']>bb[1])].empty\n",
    "    if True in judge_array:\n",
    "        newz[i]=np.nan \n",
    "\n",
    "\n",
    "ygrid = newz.reshape(100, 100)"
   ]
  },
  {
   "cell_type": "code",
   "execution_count": 42,
   "metadata": {},
   "outputs": [
    {
     "data": {
      "text/plain": [
       "(-0.5, 73.55, -3.0, 22.95)"
      ]
     },
     "execution_count": 42,
     "metadata": {},
     "output_type": "execute_result"
    },
    {
     "data": {
      "image/png": "[encoded data removed]",
      "text/plain": [
       "<Figure size 1296x432 with 1 Axes>"
      ]
     },
     "metadata": {
      "needs_background": "light"
     },
     "output_type": "display_data"
    }
   ],
   "source": [
    "fig, ax=plt.subplots(1,1,figsize=(18,6))\n",
    "im=ax.pcolormesh(*xgrid, ygrid, shading='auto', cmap='rainbow', vmin=295, vmax=301)\n",
    "im_m=ax.plot(x, y, \"ok\", label=\"input point\")\n",
    "\n",
    "ax.set_xlim(-0.5,73.55)\n",
    "ax.set_ylim(-3,22.95)\n",
    "\n",
    "ax.spines['left'].set_visible(False)\n",
    "ax.spines['top'].set_visible(False)\n",
    "ax.spines['right'].set_visible(False)\n",
    "ax.spines['bottom'].set_visible(False)\n",
    "ax.axis('off')"
   ]
  },
  {
   "cell_type": "code",
   "execution_count": null,
   "metadata": {},
   "outputs": [],
   "source": [
    "env.request_evaluation()"
   ]
  },
  {
   "cell_type": "code",
   "execution_count": null,
   "metadata": {},
   "outputs": [],
   "source": [
    "template=pd.read_csv('D:/My Repository/AlphaMobileSensing/demo/Template_demo_Dynamic_2005.csv')\n",
    "\n",
    "X=template.iloc[:,1].values\n",
    "Y=template.iloc[:,2].values\n",
    "\n",
    "nor_X=np.zeros(len(template))\n",
    "nor_Y=np.zeros(len(template))\n",
    "\n",
    "for i in range(2):\n",
    "    nor_X[:]=(X[:]-measurement_log[:,i].min())/(measurement_log[:,i].max()-measurement_log[:,i].min())\n",
    "    nor_Y[:]=(Y[:]-measurement_log[:,i].min())/(measurement_log[:,i].max()-measurement_log[:,i].min())\n",
    "\n",
    "\n",
    "\n",
    "Z=fglobal[1]+reg.intercept_+reg.coef_[0]*nor_X[:]+reg.coef_[1]*nor_Y[:]+reg.coef_[2]*nor_xflat[0,2]\n",
    "\n",
    "\n",
    "for i in range(len(template)):\n",
    "    template.iloc[i,3]=Z[i]\n",
    "\n",
    "template.to_csv('D:/My Repository/AlphaMobileSensing/demo/Template_demo_Dynamic_2005.csv', index=0)\n",
    "\n",
    "env.compute_accuracy()"
   ]
  },
  {
   "cell_type": "code",
   "execution_count": null,
   "metadata": {},
   "outputs": [],
   "source": []
  }
 ],
 "metadata": {
  "kernelspec": {
   "display_name": "Python 3.9.12 ('base')",
   "language": "python",
   "name": "python3"
  },
  "language_info": {
   "codemirror_mode": {
    "name": "ipython",
    "version": 3
   },
   "file_extension": ".py",
   "mimetype": "text/x-python",
   "name": "python",
   "nbconvert_exporter": "python",
   "pygments_lexer": "ipython3",
   "version": "3.9.12"
  },
  "orig_nbformat": 4,
  "vscode": {
   "interpreter": {
    "hash": "ad2bdc8ecc057115af97d19610ffacc2b4e99fae6737bb82f5d7fb13d2f2c186"
   }
  }
 },
 "nbformat": 4,
 "nbformat_minor": 2
}
