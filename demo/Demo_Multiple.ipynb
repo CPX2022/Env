{
 "cells": [
  {
   "cell_type": "code",
   "execution_count": 1,
   "metadata": {},
   "outputs": [],
   "source": [
    "import sys\n",
    "PATH_TO_ROOT='D:/My Repository'\n",
    "sys.path.insert(0, PATH_TO_ROOT)"
   ]
  },
  {
   "cell_type": "code",
   "execution_count": 2,
   "metadata": {},
   "outputs": [],
   "source": [
    "import pandas as pd\n",
    "import numpy as np\n",
    "from loess import loess_1d\n",
    "from sklearn import linear_model\n",
    "import matplotlib.pyplot as plt\n",
    "\n",
    "from AlphaMobileSensing.env import environment"
   ]
  },
  {
   "cell_type": "code",
   "execution_count": 3,
   "metadata": {},
   "outputs": [
    {
     "name": "stderr",
     "output_type": "stream",
     "text": [
      "C:\\Users\\qizho\\AppData\\Roaming\\Python\\Python39\\site-packages\\gym\\spaces\\box.py:112: UserWarning: \u001b[33mWARN: Box bound precision lowered by casting to float64\u001b[0m\n",
      "  logger.warn(f\"Box bound precision lowered by casting to {self.dtype}\")\n"
     ]
    }
   ],
   "source": [
    "datapath='D:/Research Working Folder/Paper_1-Mobile Sensing Virtual Environment/dynamic_50cm_DEMO.csv'\n",
    "env=environment.AlphaMoSeEnv(datapath, 2500, 1, 2, (15, 15), ((3.5, 3), (65.6, 8)), 2, (0.5, 0.5), 1000)\n",
    "action_series_df=pd.read_excel('D:/My Repository/AlphaMobileSensing/data/action series for demo_multiple_test.xlsx')"
   ]
  },
  {
   "cell_type": "code",
   "execution_count": 4,
   "metadata": {},
   "outputs": [
    {
     "data": {
      "text/html": [
       "<div>\n",
       "<style scoped>\n",
       "    .dataframe tbody tr th:only-of-type {\n",
       "        vertical-align: middle;\n",
       "    }\n",
       "\n",
       "    .dataframe tbody tr th {\n",
       "        vertical-align: top;\n",
       "    }\n",
       "\n",
       "    .dataframe thead th {\n",
       "        text-align: right;\n",
       "    }\n",
       "</style>\n",
       "<table border=\"1\" class=\"dataframe\">\n",
       "  <thead>\n",
       "    <tr style=\"text-align: right;\">\n",
       "      <th></th>\n",
       "      <th>Ux</th>\n",
       "      <th>Uy</th>\n",
       "      <th>tau</th>\n",
       "      <th>Continue/Stop</th>\n",
       "      <th>Ux.1</th>\n",
       "      <th>Uy.1</th>\n",
       "      <th>tau.1</th>\n",
       "      <th>Continue/Stop.1</th>\n",
       "    </tr>\n",
       "  </thead>\n",
       "  <tbody>\n",
       "    <tr>\n",
       "      <th>0</th>\n",
       "      <td>0.0</td>\n",
       "      <td>0.2</td>\n",
       "      <td>25</td>\n",
       "      <td>1</td>\n",
       "      <td>0.0</td>\n",
       "      <td>-0.2</td>\n",
       "      <td>25</td>\n",
       "      <td>1</td>\n",
       "    </tr>\n",
       "    <tr>\n",
       "      <th>1</th>\n",
       "      <td>0.0</td>\n",
       "      <td>0.2</td>\n",
       "      <td>25</td>\n",
       "      <td>1</td>\n",
       "      <td>0.0</td>\n",
       "      <td>-0.2</td>\n",
       "      <td>25</td>\n",
       "      <td>1</td>\n",
       "    </tr>\n",
       "    <tr>\n",
       "      <th>2</th>\n",
       "      <td>0.1</td>\n",
       "      <td>0.0</td>\n",
       "      <td>45</td>\n",
       "      <td>1</td>\n",
       "      <td>-0.1</td>\n",
       "      <td>0.0</td>\n",
       "      <td>45</td>\n",
       "      <td>1</td>\n",
       "    </tr>\n",
       "    <tr>\n",
       "      <th>3</th>\n",
       "      <td>0.0</td>\n",
       "      <td>-0.2</td>\n",
       "      <td>25</td>\n",
       "      <td>1</td>\n",
       "      <td>0.0</td>\n",
       "      <td>0.2</td>\n",
       "      <td>25</td>\n",
       "      <td>1</td>\n",
       "    </tr>\n",
       "    <tr>\n",
       "      <th>4</th>\n",
       "      <td>0.0</td>\n",
       "      <td>-0.2</td>\n",
       "      <td>25</td>\n",
       "      <td>1</td>\n",
       "      <td>0.0</td>\n",
       "      <td>0.2</td>\n",
       "      <td>25</td>\n",
       "      <td>1</td>\n",
       "    </tr>\n",
       "    <tr>\n",
       "      <th>5</th>\n",
       "      <td>0.1</td>\n",
       "      <td>0.0</td>\n",
       "      <td>45</td>\n",
       "      <td>1</td>\n",
       "      <td>-0.1</td>\n",
       "      <td>0.0</td>\n",
       "      <td>45</td>\n",
       "      <td>1</td>\n",
       "    </tr>\n",
       "    <tr>\n",
       "      <th>6</th>\n",
       "      <td>0.0</td>\n",
       "      <td>0.2</td>\n",
       "      <td>25</td>\n",
       "      <td>1</td>\n",
       "      <td>0.0</td>\n",
       "      <td>0.2</td>\n",
       "      <td>30</td>\n",
       "      <td>1</td>\n",
       "    </tr>\n",
       "    <tr>\n",
       "      <th>7</th>\n",
       "      <td>0.0</td>\n",
       "      <td>0.2</td>\n",
       "      <td>25</td>\n",
       "      <td>1</td>\n",
       "      <td>0.0</td>\n",
       "      <td>0.2</td>\n",
       "      <td>30</td>\n",
       "      <td>1</td>\n",
       "    </tr>\n",
       "    <tr>\n",
       "      <th>8</th>\n",
       "      <td>0.1</td>\n",
       "      <td>0.0</td>\n",
       "      <td>45</td>\n",
       "      <td>1</td>\n",
       "      <td>-0.1</td>\n",
       "      <td>0.0</td>\n",
       "      <td>45</td>\n",
       "      <td>1</td>\n",
       "    </tr>\n",
       "    <tr>\n",
       "      <th>9</th>\n",
       "      <td>0.0</td>\n",
       "      <td>-0.1</td>\n",
       "      <td>55</td>\n",
       "      <td>1</td>\n",
       "      <td>0.0</td>\n",
       "      <td>-0.2</td>\n",
       "      <td>30</td>\n",
       "      <td>1</td>\n",
       "    </tr>\n",
       "    <tr>\n",
       "      <th>10</th>\n",
       "      <td>0.1</td>\n",
       "      <td>0.0</td>\n",
       "      <td>45</td>\n",
       "      <td>1</td>\n",
       "      <td>0.0</td>\n",
       "      <td>-0.2</td>\n",
       "      <td>30</td>\n",
       "      <td>1</td>\n",
       "    </tr>\n",
       "    <tr>\n",
       "      <th>11</th>\n",
       "      <td>0.0</td>\n",
       "      <td>0.1</td>\n",
       "      <td>55</td>\n",
       "      <td>1</td>\n",
       "      <td>-0.1</td>\n",
       "      <td>0.0</td>\n",
       "      <td>45</td>\n",
       "      <td>1</td>\n",
       "    </tr>\n",
       "    <tr>\n",
       "      <th>12</th>\n",
       "      <td>0.1</td>\n",
       "      <td>0.0</td>\n",
       "      <td>45</td>\n",
       "      <td>1</td>\n",
       "      <td>0.0</td>\n",
       "      <td>-0.2</td>\n",
       "      <td>25</td>\n",
       "      <td>1</td>\n",
       "    </tr>\n",
       "    <tr>\n",
       "      <th>13</th>\n",
       "      <td>0.0</td>\n",
       "      <td>-0.2</td>\n",
       "      <td>25</td>\n",
       "      <td>1</td>\n",
       "      <td>0.0</td>\n",
       "      <td>-0.2</td>\n",
       "      <td>25</td>\n",
       "      <td>1</td>\n",
       "    </tr>\n",
       "    <tr>\n",
       "      <th>14</th>\n",
       "      <td>0.0</td>\n",
       "      <td>-0.2</td>\n",
       "      <td>25</td>\n",
       "      <td>1</td>\n",
       "      <td>-0.1</td>\n",
       "      <td>0.0</td>\n",
       "      <td>45</td>\n",
       "      <td>1</td>\n",
       "    </tr>\n",
       "    <tr>\n",
       "      <th>15</th>\n",
       "      <td>0.1</td>\n",
       "      <td>0.0</td>\n",
       "      <td>45</td>\n",
       "      <td>1</td>\n",
       "      <td>0.0</td>\n",
       "      <td>0.2</td>\n",
       "      <td>25</td>\n",
       "      <td>1</td>\n",
       "    </tr>\n",
       "    <tr>\n",
       "      <th>16</th>\n",
       "      <td>0.0</td>\n",
       "      <td>0.2</td>\n",
       "      <td>30</td>\n",
       "      <td>1</td>\n",
       "      <td>0.0</td>\n",
       "      <td>0.2</td>\n",
       "      <td>25</td>\n",
       "      <td>1</td>\n",
       "    </tr>\n",
       "    <tr>\n",
       "      <th>17</th>\n",
       "      <td>0.1</td>\n",
       "      <td>0.0</td>\n",
       "      <td>45</td>\n",
       "      <td>1</td>\n",
       "      <td>-0.1</td>\n",
       "      <td>0.0</td>\n",
       "      <td>45</td>\n",
       "      <td>1</td>\n",
       "    </tr>\n",
       "    <tr>\n",
       "      <th>18</th>\n",
       "      <td>0.0</td>\n",
       "      <td>-0.2</td>\n",
       "      <td>25</td>\n",
       "      <td>1</td>\n",
       "      <td>0.0</td>\n",
       "      <td>-0.2</td>\n",
       "      <td>25</td>\n",
       "      <td>1</td>\n",
       "    </tr>\n",
       "    <tr>\n",
       "      <th>19</th>\n",
       "      <td>0.0</td>\n",
       "      <td>-0.2</td>\n",
       "      <td>25</td>\n",
       "      <td>1</td>\n",
       "      <td>0.0</td>\n",
       "      <td>-0.2</td>\n",
       "      <td>25</td>\n",
       "      <td>1</td>\n",
       "    </tr>\n",
       "  </tbody>\n",
       "</table>\n",
       "</div>"
      ],
      "text/plain": [
       "     Ux   Uy  tau  Continue/Stop  Ux.1  Uy.1  tau.1  Continue/Stop.1\n",
       "0   0.0  0.2   25              1   0.0  -0.2     25                1\n",
       "1   0.0  0.2   25              1   0.0  -0.2     25                1\n",
       "2   0.1  0.0   45              1  -0.1   0.0     45                1\n",
       "3   0.0 -0.2   25              1   0.0   0.2     25                1\n",
       "4   0.0 -0.2   25              1   0.0   0.2     25                1\n",
       "5   0.1  0.0   45              1  -0.1   0.0     45                1\n",
       "6   0.0  0.2   25              1   0.0   0.2     30                1\n",
       "7   0.0  0.2   25              1   0.0   0.2     30                1\n",
       "8   0.1  0.0   45              1  -0.1   0.0     45                1\n",
       "9   0.0 -0.1   55              1   0.0  -0.2     30                1\n",
       "10  0.1  0.0   45              1   0.0  -0.2     30                1\n",
       "11  0.0  0.1   55              1  -0.1   0.0     45                1\n",
       "12  0.1  0.0   45              1   0.0  -0.2     25                1\n",
       "13  0.0 -0.2   25              1   0.0  -0.2     25                1\n",
       "14  0.0 -0.2   25              1  -0.1   0.0     45                1\n",
       "15  0.1  0.0   45              1   0.0   0.2     25                1\n",
       "16  0.0  0.2   30              1   0.0   0.2     25                1\n",
       "17  0.1  0.0   45              1  -0.1   0.0     45                1\n",
       "18  0.0 -0.2   25              1   0.0  -0.2     25                1\n",
       "19  0.0 -0.2   25              1   0.0  -0.2     25                1"
      ]
     },
     "execution_count": 4,
     "metadata": {},
     "output_type": "execute_result"
    }
   ],
   "source": [
    "action_series_df"
   ]
  },
  {
   "cell_type": "code",
   "execution_count": 5,
   "metadata": {},
   "outputs": [],
   "source": [
    "env.reset()\n",
    "\n",
    "num_agent=2\n",
    "\n",
    "\n",
    "measurement_log_raw=np.full((len(action_series_df)+1,4*num_agent), np.nan)\n",
    "\n",
    "for i in range(num_agent):\n",
    "    measurement_log_raw[0,4*i:4*(i+1)]=env.obs[i]\n",
    "\n",
    "\n",
    "for i in range(len(action_series_df)):\n",
    " \n",
    "    action=[]\n",
    "    for j in range(num_agent):\n",
    "        array=action_series_df.iloc[i,4*j:4*(j+1)].values\n",
    "        action.append(array)\n",
    "\n",
    "    step_log=env.step(action)\n",
    "\n",
    "    \n",
    "    if step_log[0]==True:\n",
    "        break\n",
    "    else:\n",
    "        for j in range(num_agent):\n",
    "            measurement_log_raw[i+1,4*j:4*(j+1)]=env.obs[j]"
   ]
  },
  {
   "cell_type": "code",
   "execution_count": 6,
   "metadata": {},
   "outputs": [
    {
     "data": {
      "text/plain": [
       "array([1005.,  940.])"
      ]
     },
     "execution_count": 6,
     "metadata": {},
     "output_type": "execute_result"
    }
   ],
   "source": [
    "env.agent_global_time"
   ]
  },
  {
   "cell_type": "code",
   "execution_count": 7,
   "metadata": {},
   "outputs": [],
   "source": [
    "measurement_log_middle=np.zeros(((len(action_series_df)+1)*num_agent,4))\n",
    "for i in range(num_agent):\n",
    "    measurement_log_middle[(len(action_series_df)+1)*i:(len(action_series_df)+1)*(i+1),:]=measurement_log_raw[:,4*i:4*(i+1)]"
   ]
  },
  {
   "cell_type": "code",
   "execution_count": 8,
   "metadata": {},
   "outputs": [],
   "source": [
    "b=measurement_log_middle[:,2]\n",
    "index=np.lexsort((b,))\n",
    "measurement_log_middle=measurement_log_middle[index]\n",
    "\n",
    "\n",
    "measurement_log=measurement_log_middle[~np.isnan(measurement_log_middle)]\n",
    "measurement_log=measurement_log.reshape((-1,4))"
   ]
  },
  {
   "cell_type": "code",
   "execution_count": 9,
   "metadata": {},
   "outputs": [],
   "source": [
    "x=measurement_log[:,0]\n",
    "y=measurement_log[:,1]\n",
    "t=measurement_log[:, 2]\n",
    "v=measurement_log[:, 3]\n",
    "\n",
    "fglobal=loess_1d.loess_1d(x=t,y=v, xnew=t)\n",
    "\n",
    "r_i=v-fglobal[1]"
   ]
  },
  {
   "cell_type": "code",
   "execution_count": 10,
   "metadata": {},
   "outputs": [],
   "source": [
    "nor_measurement_log=np.zeros_like(measurement_log)\n",
    "for i in range(3):\n",
    "    nor_measurement_log[:,i]=(measurement_log[:,i]-measurement_log[:,i].min())/(measurement_log[:,i].max()-measurement_log[:,i].min())"
   ]
  },
  {
   "cell_type": "code",
   "execution_count": 11,
   "metadata": {},
   "outputs": [
    {
     "data": {
      "text/plain": [
       "LinearRegression()"
      ]
     },
     "execution_count": 11,
     "metadata": {},
     "output_type": "execute_result"
    }
   ],
   "source": [
    "reg=linear_model.LinearRegression()\n",
    "reg.fit(nor_measurement_log[:, 0:3], r_i)"
   ]
  },
  {
   "cell_type": "code",
   "execution_count": 12,
   "metadata": {},
   "outputs": [],
   "source": [
    "target_time=1005\n",
    "\n",
    "xgrid=np.mgrid[-0.5:73.55:100j, -3:22.95:100j]\n",
    "xflat = xgrid.reshape(2, -1).T\n",
    "t_array=np.zeros((10000,1))+target_time\n",
    "xflat=np.concatenate([xflat, t_array], axis=1)\n",
    "\n",
    "nor_xflat=np.zeros((10000,3))\n",
    "for i in range(3):\n",
    "    nor_xflat[:,i]=(xflat[:,i]-measurement_log[:,i].min())/(measurement_log[:,i].max()-measurement_log[:,i].min())\n",
    "    \n",
    "\n",
    "fglobal=loess_1d.loess_1d(x=t,y=v, xnew=np.array([target_time]))\n",
    "\n",
    "newz=fglobal[1]+reg.intercept_+reg.coef_[0]*nor_xflat[:,0]+reg.coef_[1]*nor_xflat[:,1]+reg.coef_[2]*nor_xflat[:,2]"
   ]
  },
  {
   "cell_type": "code",
   "execution_count": 13,
   "metadata": {},
   "outputs": [],
   "source": [
    "data=env.stdata[['X', 'Y']]\n",
    "\n",
    "delta=1.5\n",
    "\n",
    "for i in range(10000):\n",
    "    bb=xflat[i,:]\n",
    "    judge_array=[0,0,0,0]\n",
    "    window_data=data.loc[(data['X']>(bb[0]-delta)) & (data['X']<(bb[0]+delta)) & \n",
    "    (data['Y']>(bb[1]-delta)) & (data['Y']<(bb[1]+delta)), ['X', 'Y']]\n",
    "    judge_array[0]=window_data.loc[(window_data['X']<bb[0]) & (window_data['Y']<bb[1])].empty\n",
    "    judge_array[1]=window_data.loc[(window_data['X']<bb[0]) & (window_data['Y']>bb[1])].empty\n",
    "    judge_array[2]=window_data.loc[(window_data['X']>bb[0]) & (window_data['Y']<bb[1])].empty\n",
    "    judge_array[3]=window_data.loc[(window_data['X']>bb[0]) & (window_data['Y']>bb[1])].empty\n",
    "    if True in judge_array:\n",
    "        newz[i]=np.nan \n",
    "\n",
    "\n",
    "ygrid = newz.reshape(100, 100)"
   ]
  },
  {
   "cell_type": "code",
   "execution_count": 14,
   "metadata": {},
   "outputs": [
    {
     "data": {
      "text/plain": [
       "(-0.5, 73.55, -3.0, 22.95)"
      ]
     },
     "execution_count": 14,
     "metadata": {},
     "output_type": "execute_result"
    },
    {
     "data": {
      "image/png": "[encoded data removed]",
      "text/plain": [
       "<Figure size 1296x432 with 1 Axes>"
      ]
     },
     "metadata": {
      "needs_background": "light"
     },
     "output_type": "display_data"
    }
   ],
   "source": [
    "fig, ax=plt.subplots(1,1,figsize=(18,6))\n",
    "im=ax.pcolormesh(*xgrid, ygrid, shading='auto', cmap='rainbow', vmin=295, vmax=301)\n",
    "\n",
    "im_m=ax.plot(x, y, \"ok\", label=\"input point\")\n",
    "\n",
    "ax.set_xlim(-0.5,73.55)\n",
    "ax.set_ylim(-3,22.95)\n",
    "\n",
    "ax.spines['left'].set_visible(False)\n",
    "ax.spines['top'].set_visible(False)\n",
    "ax.spines['right'].set_visible(False)\n",
    "ax.spines['bottom'].set_visible(False)\n",
    "ax.axis('off')"
   ]
  },
  {
   "cell_type": "code",
   "execution_count": 15,
   "metadata": {},
   "outputs": [],
   "source": [
    "stationary_sensing=env.stationary_monitoring()\n",
    "\n",
    "#three stationary sensors are set"
   ]
  },
  {
   "cell_type": "code",
   "execution_count": 16,
   "metadata": {},
   "outputs": [
    {
     "data": {
      "text/plain": [
       "(   X coordinate  Y coordinate\n",
       " 1           3.5           3.0\n",
       " 2          36.0           6.0\n",
       " 3          62.0          -1.0,\n",
       "        time   sensor #1   sensor #2   sensor #3\n",
       " 0       0.0  300.000000  300.000000  300.000000\n",
       " 1      20.0  298.144043  300.001739  300.048340\n",
       " 2      40.0  298.201050  299.036529  300.113220\n",
       " 3      60.0  297.871124  299.168427  298.803192\n",
       " 4      80.0  297.780212  299.115234  298.274292\n",
       " ..      ...         ...         ...         ...\n",
       " 120  2400.0  296.414551  296.140564  296.861694\n",
       " 121  2420.0  296.175537  296.144714  297.015564\n",
       " 122  2440.0  296.242889  296.168396  297.076416\n",
       " 123  2460.0  296.060120  296.189362  297.073029\n",
       " 124  2480.0  296.213440  296.186707  297.055237\n",
       " \n",
       " [125 rows x 4 columns])"
      ]
     },
     "execution_count": 16,
     "metadata": {},
     "output_type": "execute_result"
    }
   ],
   "source": [
    "stationary_sensing"
   ]
  },
  {
   "cell_type": "code",
   "execution_count": 17,
   "metadata": {},
   "outputs": [
    {
     "data": {
      "text/html": [
       "<div>\n",
       "<style scoped>\n",
       "    .dataframe tbody tr th:only-of-type {\n",
       "        vertical-align: middle;\n",
       "    }\n",
       "\n",
       "    .dataframe tbody tr th {\n",
       "        vertical-align: top;\n",
       "    }\n",
       "\n",
       "    .dataframe thead th {\n",
       "        text-align: right;\n",
       "    }\n",
       "</style>\n",
       "<table border=\"1\" class=\"dataframe\">\n",
       "  <thead>\n",
       "    <tr style=\"text-align: right;\">\n",
       "      <th></th>\n",
       "      <th>time</th>\n",
       "      <th>sensor #1</th>\n",
       "      <th>sensor #2</th>\n",
       "      <th>sensor #3</th>\n",
       "    </tr>\n",
       "  </thead>\n",
       "  <tbody>\n",
       "    <tr>\n",
       "      <th>0</th>\n",
       "      <td>0.0</td>\n",
       "      <td>300.000000</td>\n",
       "      <td>300.000000</td>\n",
       "      <td>300.000000</td>\n",
       "    </tr>\n",
       "    <tr>\n",
       "      <th>1</th>\n",
       "      <td>20.0</td>\n",
       "      <td>298.144043</td>\n",
       "      <td>300.001739</td>\n",
       "      <td>300.048340</td>\n",
       "    </tr>\n",
       "    <tr>\n",
       "      <th>2</th>\n",
       "      <td>40.0</td>\n",
       "      <td>298.201050</td>\n",
       "      <td>299.036529</td>\n",
       "      <td>300.113220</td>\n",
       "    </tr>\n",
       "    <tr>\n",
       "      <th>3</th>\n",
       "      <td>60.0</td>\n",
       "      <td>297.871124</td>\n",
       "      <td>299.168427</td>\n",
       "      <td>298.803192</td>\n",
       "    </tr>\n",
       "    <tr>\n",
       "      <th>4</th>\n",
       "      <td>80.0</td>\n",
       "      <td>297.780212</td>\n",
       "      <td>299.115234</td>\n",
       "      <td>298.274292</td>\n",
       "    </tr>\n",
       "    <tr>\n",
       "      <th>...</th>\n",
       "      <td>...</td>\n",
       "      <td>...</td>\n",
       "      <td>...</td>\n",
       "      <td>...</td>\n",
       "    </tr>\n",
       "    <tr>\n",
       "      <th>120</th>\n",
       "      <td>2400.0</td>\n",
       "      <td>296.414551</td>\n",
       "      <td>296.140564</td>\n",
       "      <td>296.861694</td>\n",
       "    </tr>\n",
       "    <tr>\n",
       "      <th>121</th>\n",
       "      <td>2420.0</td>\n",
       "      <td>296.175537</td>\n",
       "      <td>296.144714</td>\n",
       "      <td>297.015564</td>\n",
       "    </tr>\n",
       "    <tr>\n",
       "      <th>122</th>\n",
       "      <td>2440.0</td>\n",
       "      <td>296.242889</td>\n",
       "      <td>296.168396</td>\n",
       "      <td>297.076416</td>\n",
       "    </tr>\n",
       "    <tr>\n",
       "      <th>123</th>\n",
       "      <td>2460.0</td>\n",
       "      <td>296.060120</td>\n",
       "      <td>296.189362</td>\n",
       "      <td>297.073029</td>\n",
       "    </tr>\n",
       "    <tr>\n",
       "      <th>124</th>\n",
       "      <td>2480.0</td>\n",
       "      <td>296.213440</td>\n",
       "      <td>296.186707</td>\n",
       "      <td>297.055237</td>\n",
       "    </tr>\n",
       "  </tbody>\n",
       "</table>\n",
       "<p>125 rows × 4 columns</p>\n",
       "</div>"
      ],
      "text/plain": [
       "       time   sensor #1   sensor #2   sensor #3\n",
       "0       0.0  300.000000  300.000000  300.000000\n",
       "1      20.0  298.144043  300.001739  300.048340\n",
       "2      40.0  298.201050  299.036529  300.113220\n",
       "3      60.0  297.871124  299.168427  298.803192\n",
       "4      80.0  297.780212  299.115234  298.274292\n",
       "..      ...         ...         ...         ...\n",
       "120  2400.0  296.414551  296.140564  296.861694\n",
       "121  2420.0  296.175537  296.144714  297.015564\n",
       "122  2440.0  296.242889  296.168396  297.076416\n",
       "123  2460.0  296.060120  296.189362  297.073029\n",
       "124  2480.0  296.213440  296.186707  297.055237\n",
       "\n",
       "[125 rows x 4 columns]"
      ]
     },
     "execution_count": 17,
     "metadata": {},
     "output_type": "execute_result"
    }
   ],
   "source": [
    "stationary_sensing[1]"
   ]
  },
  {
   "cell_type": "code",
   "execution_count": 18,
   "metadata": {},
   "outputs": [],
   "source": [
    "env.request_evaluation()"
   ]
  },
  {
   "cell_type": "code",
   "execution_count": 19,
   "metadata": {},
   "outputs": [
    {
     "data": {
      "text/plain": [
       "{'Root mean square error': 1.6322891137243623,\n",
       " 'Mean absolute error': 1.5554000329055384}"
      ]
     },
     "execution_count": 19,
     "metadata": {},
     "output_type": "execute_result"
    }
   ],
   "source": [
    "template=pd.read_csv('D:/My Repository/AlphaMobileSensing/demo/Template_demo_Multiple_1005.csv')\n",
    "\n",
    "X=template.iloc[:,1].values\n",
    "Y=template.iloc[:,2].values\n",
    "\n",
    "nor_X=np.zeros(len(template))\n",
    "nor_Y=np.zeros(len(template))\n",
    "\n",
    "for i in range(2):\n",
    "    nor_X[:]=(X[:]-measurement_log[:,i].min())/(measurement_log[:,i].max()-measurement_log[:,i].min())\n",
    "    nor_Y[:]=(Y[:]-measurement_log[:,i].min())/(measurement_log[:,i].max()-measurement_log[:,i].min())\n",
    "\n",
    "Z=fglobal[1]+reg.intercept_+reg.coef_[0]*nor_X[:]+reg.coef_[1]*nor_Y[:]+reg.coef_[2]*nor_xflat[0,2]\n",
    "\n",
    "for i in range(len(template)):\n",
    "    template.iloc[i,3]=Z[i]\n",
    "\n",
    "template.to_csv('D:/My Repository/AlphaMobileSensing/demo/Template_demo_Multiple_1005.csv', index=0)\n",
    "\n",
    "env.compute_accuracy()"
   ]
  },
  {
   "cell_type": "code",
   "execution_count": null,
   "metadata": {},
   "outputs": [],
   "source": []
  }
 ],
 "metadata": {
  "kernelspec": {
   "display_name": "base",
   "language": "python",
   "name": "python3"
  },
  "language_info": {
   "codemirror_mode": {
    "name": "ipython",
    "version": 3
   },
   "file_extension": ".py",
   "mimetype": "text/x-python",
   "name": "python",
   "nbconvert_exporter": "python",
   "pygments_lexer": "ipython3",
   "version": "3.9.12"
  },
  "orig_nbformat": 4,
  "vscode": {
   "interpreter": {
    "hash": "ad2bdc8ecc057115af97d19610ffacc2b4e99fae6737bb82f5d7fb13d2f2c186"
   }
  }
 },
 "nbformat": 4,
 "nbformat_minor": 2
}
