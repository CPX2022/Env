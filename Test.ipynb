{
 "cells": [
  {
   "cell_type": "code",
   "execution_count": 3,
   "metadata": {},
   "outputs": [],
   "source": [
    "import sys\n",
    "PATH_TO_ROOT='D:/My Repository'\n",
    "sys.path.insert(0, PATH_TO_ROOT)"
   ]
  },
  {
   "cell_type": "code",
   "execution_count": 6,
   "metadata": {},
   "outputs": [],
   "source": [
    "import pandas as pd\n",
    "import numpy as np\n",
    "from AlphaMobileSensing import Msenseing"
   ]
  },
  {
   "cell_type": "code",
   "execution_count": 5,
   "metadata": {},
   "outputs": [
    {
     "ename": "TypeError",
     "evalue": "__init__() missing 7 required positional arguments: 'PFdataPath', 'GTimeHorizon', 'GTimeStepSize', 'MeasureTime', 'IniLoc', 'MaxVel', and 'CostWeight'",
     "output_type": "error",
     "traceback": [
      "\u001b[1;31m---------------------------------------------------------------------------\u001b[0m",
      "\u001b[1;31mTypeError\u001b[0m                                 Traceback (most recent call last)",
      "\u001b[1;32md:\\My Repository\\AlphaMobileSensing\\Test.ipynb Cell 3\u001b[0m in \u001b[0;36m<cell line: 1>\u001b[1;34m()\u001b[0m\n\u001b[1;32m----> <a href='vscode-notebook-cell:/d%3A/My%20Repository/AlphaMobileSensing/Test.ipynb#ch0000002?line=0'>1</a>\u001b[0m env\u001b[39m=\u001b[39mMsenseing\u001b[39m.\u001b[39;49mAlphaMoSeEnv()\n",
      "\u001b[1;31mTypeError\u001b[0m: __init__() missing 7 required positional arguments: 'PFdataPath', 'GTimeHorizon', 'GTimeStepSize', 'MeasureTime', 'IniLoc', 'MaxVel', and 'CostWeight'"
     ]
    }
   ],
   "source": [
    "datapath=''\n",
    "\n",
    "\n",
    "env=Msenseing.AlphaMoSeEnv()"
   ]
  },
  {
   "cell_type": "code",
   "execution_count": null,
   "metadata": {},
   "outputs": [],
   "source": []
  }
 ],
 "metadata": {
  "kernelspec": {
   "display_name": "Python 3.9.12 ('base')",
   "language": "python",
   "name": "python3"
  },
  "language_info": {
   "codemirror_mode": {
    "name": "ipython",
    "version": 3
   },
   "file_extension": ".py",
   "mimetype": "text/x-python",
   "name": "python",
   "nbconvert_exporter": "python",
   "pygments_lexer": "ipython3",
   "version": "3.9.12"
  },
  "orig_nbformat": 4,
  "vscode": {
   "interpreter": {
    "hash": "ad2bdc8ecc057115af97d19610ffacc2b4e99fae6737bb82f5d7fb13d2f2c186"
   }
  }
 },
 "nbformat": 4,
 "nbformat_minor": 2
}
