{
 "cells": [
  {
   "cell_type": "code",
   "execution_count": 1,
   "metadata": {},
   "outputs": [],
   "source": [
    "import sys\n",
    "PATH_TO_ROOT='D:/My Repository'\n",
    "sys.path.insert(0, PATH_TO_ROOT)"
   ]
  },
  {
   "cell_type": "code",
   "execution_count": 2,
   "metadata": {},
   "outputs": [],
   "source": [
    "import pandas as pd\n",
    "import numpy as np\n",
    "from AlphaMobileSensing import Msenseing"
   ]
  },
  {
   "cell_type": "code",
   "execution_count": 3,
   "metadata": {},
   "outputs": [
    {
     "name": "stderr",
     "output_type": "stream",
     "text": [
      "C:\\Users\\qizho\\AppData\\Roaming\\Python\\Python39\\site-packages\\gym\\spaces\\box.py:112: UserWarning: \u001b[33mWARN: Box bound precision lowered by casting to float64\u001b[0m\n",
      "  logger.warn(f\"Box bound precision lowered by casting to {self.dtype}\")\n"
     ]
    }
   ],
   "source": [
    "datapath='D:/Research Working Folder/Paper_1-Mobile Sensing Virtual Environment/dynamic_50cm_DEMO_new.csv'\n",
    "\n",
    "\n",
    "env=Msenseing.AlphaMoSeEnv(datapath, 2500, 1, 15, (3.5, 3), 2, (0.5, 0.5), 500)"
   ]
  },
  {
   "cell_type": "code",
   "execution_count": 4,
   "metadata": {},
   "outputs": [],
   "source": [
    "action_series_df=pd.read_excel('D:/Research Working Folder/Paper_1-Mobile Sensing Virtual Environment/action series for test.xlsx')"
   ]
  },
  {
   "cell_type": "code",
   "execution_count": 334,
   "metadata": {},
   "outputs": [
    {
     "name": "stdout",
     "output_type": "stream",
     "text": [
      "Episode: 6\n",
      "Total moving distance (m)\n",
      "204.0\n",
      "Total moving time (s)\n",
      "1390.0\n"
     ]
    }
   ],
   "source": [
    "env.reset()\n",
    "\n",
    "\n",
    "measurement_log=np.zeros(((len(action_series_df)+1),4))\n",
    "measurement_log[0,:]=env.obs[:]\n",
    "\n",
    "for i in range(len(action_series_df)):\n",
    "    env.step(action_series_df.iloc[i,:].values)\n",
    "    measurement_log[i+1,:]=env.obs[:]"
   ]
  },
  {
   "cell_type": "code",
   "execution_count": 348,
   "metadata": {},
   "outputs": [
    {
     "data": {
      "text/plain": [
       "2005.0"
      ]
     },
     "execution_count": 348,
     "metadata": {},
     "output_type": "execute_result"
    }
   ],
   "source": [
    "env.global_time"
   ]
  },
  {
   "cell_type": "code",
   "execution_count": 316,
   "metadata": {},
   "outputs": [],
   "source": [
    "from loess import loess_1d\n",
    "from sklearn import linear_model\n",
    "import matplotlib.pyplot as plt"
   ]
  },
  {
   "cell_type": "code",
   "execution_count": 336,
   "metadata": {},
   "outputs": [],
   "source": [
    "x=measurement_log[:-1,0]\n",
    "y=measurement_log[:-1,1]\n",
    "\n",
    "t=measurement_log[:-1, 2]\n",
    "v=measurement_log[:-1, 3]\n",
    "\n",
    "fglobal=loess_1d.loess_1d(x=t,y=v, xnew=t)"
   ]
  },
  {
   "cell_type": "code",
   "execution_count": 337,
   "metadata": {},
   "outputs": [],
   "source": [
    "r_i=v-fglobal[1]"
   ]
  },
  {
   "cell_type": "code",
   "execution_count": 338,
   "metadata": {},
   "outputs": [
    {
     "data": {
      "text/plain": [
       "array([ 1.72395505,  0.01258693,  0.23464283,  0.19583465,  0.19579212,\n",
       "       -0.17226223, -0.17845427, -0.17745964, -0.34763811, -0.11183152,\n",
       "       -0.0820154 , -0.11408412, -0.08447924, -0.14360268, -0.11634657,\n",
       "       -0.18187748, -0.44341167, -0.07684918,  0.12824706, -0.14128015,\n",
       "        0.31816998,  0.03779638,  0.19966234, -0.03821334,  0.06123926,\n",
       "        0.02481227,  0.13552619, -0.12796538,  0.2279973 , -0.15997332,\n",
       "       -0.53927582,  0.07743634, -0.29026442, -0.03215228, -0.20933166,\n",
       "        0.10686603, -0.12828041, -0.00852361,  0.10764339, -0.06156944,\n",
       "        0.21168225,  0.00595934])"
      ]
     },
     "execution_count": 338,
     "metadata": {},
     "output_type": "execute_result"
    }
   ],
   "source": [
    "r_i"
   ]
  },
  {
   "cell_type": "code",
   "execution_count": 339,
   "metadata": {},
   "outputs": [],
   "source": [
    "nor_measurement_log=np.zeros((43,3))\n",
    "for i in range(3):\n",
    "    nor_measurement_log[:,i]=(measurement_log[:,i]-measurement_log[:,i].min())/(measurement_log[:,i].max()-measurement_log[:,i].min())"
   ]
  },
  {
   "cell_type": "code",
   "execution_count": 340,
   "metadata": {},
   "outputs": [
    {
     "data": {
      "text/plain": [
       "LinearRegression()"
      ]
     },
     "execution_count": 340,
     "metadata": {},
     "output_type": "execute_result"
    }
   ],
   "source": [
    "reg=linear_model.LinearRegression()\n",
    "reg.fit(nor_measurement_log[:-1, 0:3], r_i)"
   ]
  },
  {
   "cell_type": "code",
   "execution_count": 341,
   "metadata": {},
   "outputs": [
    {
     "data": {
      "text/plain": [
       "array([ 0.90547343, -0.28803773, -1.16728257])"
      ]
     },
     "execution_count": 341,
     "metadata": {},
     "output_type": "execute_result"
    }
   ],
   "source": [
    "reg.coef_"
   ]
  },
  {
   "cell_type": "code",
   "execution_count": 342,
   "metadata": {},
   "outputs": [
    {
     "data": {
      "text/plain": [
       "0.23703245311802598"
      ]
     },
     "execution_count": 342,
     "metadata": {},
     "output_type": "execute_result"
    }
   ],
   "source": [
    "reg.intercept_"
   ]
  },
  {
   "cell_type": "code",
   "execution_count": 349,
   "metadata": {},
   "outputs": [],
   "source": [
    "target_time=2005\n",
    "\n",
    "xgrid=np.mgrid[-0.5:73.55:100j, -3:22.95:100j]\n",
    "xflat = xgrid.reshape(2, -1).T\n",
    "t_array=np.zeros((10000,1))+target_time\n",
    "xflat=np.concatenate([xflat, t_array], axis=1)\n",
    "\n",
    "nor_xflat=np.zeros((10000,3))\n",
    "for i in range(3):\n",
    "    nor_xflat[:,i]=(xflat[:,i]-measurement_log[:,i].min())/(measurement_log[:,i].max()-measurement_log[:,i].min())\n",
    "    \n",
    "\n",
    "fglobal=loess_1d.loess_1d(x=t,y=v, xnew=np.array([target_time]))\n",
    "\n",
    "newz=fglobal[1]+reg.intercept_+reg.coef_[0]*nor_xflat[:,0]+reg.coef_[1]*nor_xflat[:,1]+reg.coef_[2]*nor_xflat[:,2]"
   ]
  },
  {
   "cell_type": "code",
   "execution_count": 350,
   "metadata": {},
   "outputs": [],
   "source": [
    "data=env.stdata[['X', 'Y']]\n",
    "\n",
    "delta=1.5\n",
    "\n",
    "for i in range(10000):\n",
    "    bb=xflat[i,:]\n",
    "    judge_array=[0,0,0,0]\n",
    "    window_data=data.loc[(data['X']>(bb[0]-delta)) & (data['X']<(bb[0]+delta)) & \n",
    "    (data['Y']>(bb[1]-delta)) & (data['Y']<(bb[1]+delta)), ['X', 'Y']]\n",
    "    judge_array[0]=window_data.loc[(window_data['X']<bb[0]) & (window_data['Y']<bb[1])].empty\n",
    "    judge_array[1]=window_data.loc[(window_data['X']<bb[0]) & (window_data['Y']>bb[1])].empty\n",
    "    judge_array[2]=window_data.loc[(window_data['X']>bb[0]) & (window_data['Y']<bb[1])].empty\n",
    "    judge_array[3]=window_data.loc[(window_data['X']>bb[0]) & (window_data['Y']>bb[1])].empty\n",
    "    if True in judge_array:\n",
    "        newz[i]=np.nan \n",
    "\n",
    "\n",
    "ygrid = newz.reshape(100, 100)"
   ]
  },
  {
   "cell_type": "code",
   "execution_count": 351,
   "metadata": {},
   "outputs": [
    {
     "data": {
      "text/plain": [
       "(-0.5, 73.55, -3.0, 22.95)"
      ]
     },
     "execution_count": 351,
     "metadata": {},
     "output_type": "execute_result"
    },
    {
     "data": {
      "image/png": "[encoded data removed]",
      "text/plain": [
       "<Figure size 1296x432 with 2 Axes>"
      ]
     },
     "metadata": {
      "needs_background": "light"
     },
     "output_type": "display_data"
    }
   ],
   "source": [
    "fig, ax=plt.subplots(1,1,figsize=(18,6))\n",
    "im=ax.pcolormesh(*xgrid, ygrid, shading='auto', cmap='rainbow', vmin=295, vmax=301)\n",
    "im_m=ax.plot(x, y, \"ok\", label=\"input point\")\n",
    "\n",
    "ax.set_xlim(-0.5,73.55)\n",
    "ax.set_ylim(-3,22.95)\n",
    "cbar=fig.colorbar(im, orientation='vertical', label='Temperature (K)')\n",
    "\n",
    "ax.spines['left'].set_visible(False)\n",
    "ax.spines['top'].set_visible(False)\n",
    "ax.spines['right'].set_visible(False)\n",
    "ax.spines['bottom'].set_visible(False)\n",
    "ax.axis('off')"
   ]
  },
  {
   "cell_type": "code",
   "execution_count": 352,
   "metadata": {},
   "outputs": [],
   "source": [
    "env.request_evauation_template()"
   ]
  },
  {
   "cell_type": "code",
   "execution_count": 353,
   "metadata": {},
   "outputs": [
    {
     "data": {
      "text/plain": [
       "1.6652524294501552"
      ]
     },
     "execution_count": 353,
     "metadata": {},
     "output_type": "execute_result"
    }
   ],
   "source": [
    "template=pd.read_csv('D:/Research Working Folder/Paper_1-Mobile Sensing Virtual Environment/Template_demo_Dyna_2.csv')\n",
    "\n",
    "X=template.iloc[:,1].values\n",
    "Y=template.iloc[:,2].values\n",
    "\n",
    "nor_X=np.zeros(len(template))\n",
    "nor_Y=np.zeros(len(template))\n",
    "\n",
    "for i in range(2):\n",
    "    nor_X[:]=(X[:]-measurement_log[:,i].min())/(measurement_log[:,i].max()-measurement_log[:,i].min())\n",
    "    nor_Y[:]=(Y[:]-measurement_log[:,i].min())/(measurement_log[:,i].max()-measurement_log[:,i].min())\n",
    "\n",
    "\n",
    "\n",
    "Z=fglobal[1]+reg.intercept_+reg.coef_[0]*nor_X[:]+reg.coef_[1]*nor_Y[:]+reg.coef_[2]*nor_xflat[0,2]\n",
    "\n",
    "\n",
    "for i in range(len(template)):\n",
    "    template.iloc[i,3]=Z[i]\n",
    "\n",
    "template.to_csv('D:/Research Working Folder/Paper_1-Mobile Sensing Virtual Environment/Template_demo_Dyna_2.csv', index=0)\n",
    "\n",
    "env.compute_accuracy()"
   ]
  },
  {
   "cell_type": "code",
   "execution_count": 354,
   "metadata": {},
   "outputs": [
    {
     "data": {
      "text/plain": [
       "42"
      ]
     },
     "execution_count": 354,
     "metadata": {},
     "output_type": "execute_result"
    }
   ],
   "source": [
    "len(action_series_df)"
   ]
  },
  {
   "cell_type": "code",
   "execution_count": 355,
   "metadata": {},
   "outputs": [],
   "source": [
    "env.reset()\n",
    "\n",
    "\n",
    "measurement_log=np.zeros(((len(action_series_df)-21+1),4))\n",
    "measurement_log[0,:]=env.obs[:]\n",
    "\n",
    "for i in range(len(action_series_df)-21):\n",
    "    env.step(action_series_df.iloc[i,:].values)\n",
    "    measurement_log[i+1,:]=env.obs[:]"
   ]
  },
  {
   "cell_type": "code",
   "execution_count": 356,
   "metadata": {},
   "outputs": [
    {
     "data": {
      "text/plain": [
       "array([ 3.95000000e+01, -1.00000000e+00,  1.06500000e+03,  2.96517853e+02])"
      ]
     },
     "execution_count": 356,
     "metadata": {},
     "output_type": "execute_result"
    }
   ],
   "source": [
    "env.obs"
   ]
  },
  {
   "cell_type": "code",
   "execution_count": 357,
   "metadata": {},
   "outputs": [
    {
     "data": {
      "text/plain": [
       "1065.0"
      ]
     },
     "execution_count": 357,
     "metadata": {},
     "output_type": "execute_result"
    }
   ],
   "source": [
    "env.global_time"
   ]
  },
  {
   "cell_type": "code",
   "execution_count": 361,
   "metadata": {},
   "outputs": [],
   "source": [
    "x=measurement_log[:,0]\n",
    "y=measurement_log[:,1]\n",
    "\n",
    "t=measurement_log[:, 2]\n",
    "v=measurement_log[:, 3]\n",
    "\n",
    "fglobal=loess_1d.loess_1d(x=t,y=v, xnew=t)"
   ]
  },
  {
   "cell_type": "code",
   "execution_count": 362,
   "metadata": {},
   "outputs": [],
   "source": [
    "r_i=v-fglobal[1]"
   ]
  },
  {
   "cell_type": "code",
   "execution_count": 363,
   "metadata": {},
   "outputs": [
    {
     "data": {
      "text/plain": [
       "array([ 1.47979854, -0.23605704,  0.02298797,  0.11938298,  0.16987877,\n",
       "       -0.14583084, -0.0782925 , -0.04554912, -0.19134862,  0.03544286,\n",
       "       -0.02736705, -0.05189655,  0.00183713, -0.02518005,  0.01331665,\n",
       "       -0.06264775, -0.35575138, -0.02618343,  0.1306815 , -0.16991717,\n",
       "        0.25654401, -0.07525326])"
      ]
     },
     "execution_count": 363,
     "metadata": {},
     "output_type": "execute_result"
    }
   ],
   "source": [
    "r_i"
   ]
  },
  {
   "cell_type": "code",
   "execution_count": 364,
   "metadata": {},
   "outputs": [],
   "source": [
    "nor_measurement_log=np.zeros((22,3))\n",
    "for i in range(3):\n",
    "    nor_measurement_log[:,i]=(measurement_log[:,i]-measurement_log[:,i].min())/(measurement_log[:,i].max()-measurement_log[:,i].min())"
   ]
  },
  {
   "cell_type": "code",
   "execution_count": 365,
   "metadata": {},
   "outputs": [
    {
     "data": {
      "text/plain": [
       "LinearRegression()"
      ]
     },
     "execution_count": 365,
     "metadata": {},
     "output_type": "execute_result"
    }
   ],
   "source": [
    "reg=linear_model.LinearRegression()\n",
    "reg.fit(nor_measurement_log[:, 0:3], r_i)"
   ]
  },
  {
   "cell_type": "code",
   "execution_count": 366,
   "metadata": {},
   "outputs": [],
   "source": [
    "target_time=1065\n",
    "\n",
    "xgrid=np.mgrid[-0.5:73.55:100j, -3:22.95:100j]\n",
    "xflat = xgrid.reshape(2, -1).T\n",
    "t_array=np.zeros((10000,1))+target_time\n",
    "xflat=np.concatenate([xflat, t_array], axis=1)\n",
    "\n",
    "nor_xflat=np.zeros((10000,3))\n",
    "for i in range(3):\n",
    "    nor_xflat[:,i]=(xflat[:,i]-measurement_log[:,i].min())/(measurement_log[:,i].max()-measurement_log[:,i].min())\n",
    "    \n",
    "\n",
    "fglobal=loess_1d.loess_1d(x=t,y=v, xnew=np.array([target_time]))\n",
    "\n",
    "newz=fglobal[1]+reg.intercept_+reg.coef_[0]*nor_xflat[:,0]+reg.coef_[1]*nor_xflat[:,1]+reg.coef_[2]*nor_xflat[:,2]"
   ]
  },
  {
   "cell_type": "code",
   "execution_count": 367,
   "metadata": {},
   "outputs": [],
   "source": [
    "data=env.stdata[['X', 'Y']]\n",
    "\n",
    "delta=1.5\n",
    "\n",
    "for i in range(10000):\n",
    "    bb=xflat[i,:]\n",
    "    judge_array=[0,0,0,0]\n",
    "    window_data=data.loc[(data['X']>(bb[0]-delta)) & (data['X']<(bb[0]+delta)) & \n",
    "    (data['Y']>(bb[1]-delta)) & (data['Y']<(bb[1]+delta)), ['X', 'Y']]\n",
    "    judge_array[0]=window_data.loc[(window_data['X']<bb[0]) & (window_data['Y']<bb[1])].empty\n",
    "    judge_array[1]=window_data.loc[(window_data['X']<bb[0]) & (window_data['Y']>bb[1])].empty\n",
    "    judge_array[2]=window_data.loc[(window_data['X']>bb[0]) & (window_data['Y']<bb[1])].empty\n",
    "    judge_array[3]=window_data.loc[(window_data['X']>bb[0]) & (window_data['Y']>bb[1])].empty\n",
    "    if True in judge_array:\n",
    "        newz[i]=np.nan \n",
    "\n",
    "\n",
    "ygrid = newz.reshape(100, 100)"
   ]
  },
  {
   "cell_type": "code",
   "execution_count": 368,
   "metadata": {},
   "outputs": [
    {
     "data": {
      "text/plain": [
       "(-0.5, 73.55, -3.0, 22.95)"
      ]
     },
     "execution_count": 368,
     "metadata": {},
     "output_type": "execute_result"
    },
    {
     "data": {
      "image/png": "[encoded data removed]",
      "text/plain": [
       "<Figure size 1296x432 with 2 Axes>"
      ]
     },
     "metadata": {
      "needs_background": "light"
     },
     "output_type": "display_data"
    }
   ],
   "source": [
    "fig, ax=plt.subplots(1,1,figsize=(18,6))\n",
    "im=ax.pcolormesh(*xgrid, ygrid, shading='auto', cmap='rainbow', vmin=295, vmax=301)\n",
    "im_m=ax.plot(x, y, \"ok\", label=\"input point\")\n",
    "\n",
    "ax.set_xlim(-0.5,73.55)\n",
    "ax.set_ylim(-3,22.95)\n",
    "cbar=fig.colorbar(im, orientation='vertical', label='Temperature (K)')\n",
    "\n",
    "ax.spines['left'].set_visible(False)\n",
    "ax.spines['top'].set_visible(False)\n",
    "ax.spines['right'].set_visible(False)\n",
    "ax.spines['bottom'].set_visible(False)\n",
    "ax.axis('off')"
   ]
  },
  {
   "cell_type": "code",
   "execution_count": 369,
   "metadata": {},
   "outputs": [],
   "source": [
    "env.request_evauation_template()"
   ]
  },
  {
   "cell_type": "code",
   "execution_count": 370,
   "metadata": {},
   "outputs": [
    {
     "data": {
      "text/plain": [
       "7.231274023701166"
      ]
     },
     "execution_count": 370,
     "metadata": {},
     "output_type": "execute_result"
    }
   ],
   "source": [
    "template=pd.read_csv('D:/Research Working Folder/Paper_1-Mobile Sensing Virtual Environment/Template_demo_Dyna_1.csv')\n",
    "\n",
    "X=template.iloc[:,1].values\n",
    "Y=template.iloc[:,2].values\n",
    "\n",
    "nor_X=np.zeros(len(template))\n",
    "nor_Y=np.zeros(len(template))\n",
    "\n",
    "for i in range(2):\n",
    "    nor_X[:]=(X[:]-measurement_log[:,i].min())/(measurement_log[:,i].max()-measurement_log[:,i].min())\n",
    "    nor_Y[:]=(Y[:]-measurement_log[:,i].min())/(measurement_log[:,i].max()-measurement_log[:,i].min())\n",
    "\n",
    "\n",
    "\n",
    "Z=fglobal[1]+reg.intercept_+reg.coef_[0]*nor_X[:]+reg.coef_[1]*nor_Y[:]+reg.coef_[2]*nor_xflat[0,2]\n",
    "\n",
    "\n",
    "for i in range(len(template)):\n",
    "    template.iloc[i,3]=Z[i]\n",
    "\n",
    "template.to_csv('D:/Research Working Folder/Paper_1-Mobile Sensing Virtual Environment/Template_demo_Dyna_1.csv', index=0)\n",
    "\n",
    "env.compute_accuracy()"
   ]
  },
  {
   "cell_type": "code",
   "execution_count": null,
   "metadata": {},
   "outputs": [],
   "source": []
  },
  {
   "cell_type": "code",
   "execution_count": null,
   "metadata": {},
   "outputs": [],
   "source": []
  },
  {
   "cell_type": "code",
   "execution_count": null,
   "metadata": {},
   "outputs": [],
   "source": []
  },
  {
   "cell_type": "code",
   "execution_count": 187,
   "metadata": {},
   "outputs": [
    {
     "data": {
      "text/plain": [
       "Ridge(alpha=0.5)"
      ]
     },
     "execution_count": 187,
     "metadata": {},
     "output_type": "execute_result"
    }
   ],
   "source": [
    "reg=linear_model.Ridge(alpha=0.5)\n",
    "reg.fit(nor_measurement_log[:-1, 0:3], r_i)"
   ]
  },
  {
   "cell_type": "code",
   "execution_count": 188,
   "metadata": {},
   "outputs": [
    {
     "data": {
      "text/plain": [
       "array([-0.08645918, -0.24755356, -0.11226996])"
      ]
     },
     "execution_count": 188,
     "metadata": {},
     "output_type": "execute_result"
    }
   ],
   "source": [
    "reg.coef_"
   ]
  },
  {
   "cell_type": "code",
   "execution_count": 189,
   "metadata": {},
   "outputs": [
    {
     "data": {
      "text/plain": [
       "0.1967564697873432"
      ]
     },
     "execution_count": 189,
     "metadata": {},
     "output_type": "execute_result"
    }
   ],
   "source": [
    "reg.intercept_"
   ]
  },
  {
   "cell_type": "code",
   "execution_count": 190,
   "metadata": {},
   "outputs": [],
   "source": [
    "target_time=2000\n",
    "\n",
    "xgrid=np.mgrid[-0.5:73.55:100j, -3:22.95:100j]\n",
    "xflat = xgrid.reshape(2, -1).T\n",
    "t_array=np.zeros((10000,1))+target_time\n",
    "xflat=np.concatenate([xflat, t_array], axis=1)\n",
    "\n",
    "nor_xflat=np.zeros((10000,3))\n",
    "for i in range(3):\n",
    "    nor_xflat[:,i]=(xflat[:,i]-measurement_log[:,i].min())/(measurement_log[:,i].max()-measurement_log[:,i].min())\n",
    "    \n",
    "\n",
    "fglobal=loess_1d.loess_1d(x=t,y=v, xnew=np.array([target_time]))\n",
    "\n",
    "newz=fglobal[1]+reg.intercept_+reg.coef_[0]*nor_xflat[:,0]+reg.coef_[1]*nor_xflat[:,1]+reg.coef_[2]*nor_xflat[:,2]"
   ]
  },
  {
   "cell_type": "code",
   "execution_count": 191,
   "metadata": {},
   "outputs": [],
   "source": [
    "data=env.stdata[['X', 'Y']]\n",
    "\n",
    "delta=1.5\n",
    "\n",
    "for i in range(10000):\n",
    "    bb=xflat[i,:]\n",
    "    judge_array=[0,0,0,0]\n",
    "    window_data=data.loc[(data['X']>(bb[0]-delta)) & (data['X']<(bb[0]+delta)) & \n",
    "    (data['Y']>(bb[1]-delta)) & (data['Y']<(bb[1]+delta)), ['X', 'Y']]\n",
    "    judge_array[0]=window_data.loc[(window_data['X']<bb[0]) & (window_data['Y']<bb[1])].empty\n",
    "    judge_array[1]=window_data.loc[(window_data['X']<bb[0]) & (window_data['Y']>bb[1])].empty\n",
    "    judge_array[2]=window_data.loc[(window_data['X']>bb[0]) & (window_data['Y']<bb[1])].empty\n",
    "    judge_array[3]=window_data.loc[(window_data['X']>bb[0]) & (window_data['Y']>bb[1])].empty\n",
    "    if True in judge_array:\n",
    "        newz[i]=np.nan \n",
    "\n",
    "\n",
    "ygrid = newz.reshape(100, 100)"
   ]
  },
  {
   "cell_type": "code",
   "execution_count": 198,
   "metadata": {},
   "outputs": [
    {
     "data": {
      "text/plain": [
       "(-0.5, 73.55, -3.0, 22.95)"
      ]
     },
     "execution_count": 198,
     "metadata": {},
     "output_type": "execute_result"
    },
    {
     "data": {
      "image/png": "[encoded data removed]",
      "text/plain": [
       "<Figure size 1296x432 with 2 Axes>"
      ]
     },
     "metadata": {
      "needs_background": "light"
     },
     "output_type": "display_data"
    }
   ],
   "source": [
    "fig, ax=plt.subplots(1,1,figsize=(18,6))\n",
    "im=ax.pcolormesh(*xgrid, ygrid, shading='auto', cmap='rainbow', vmin=293, vmax=298)\n",
    "im_m=ax.plot(x, y, \"ok\", label=\"input point\")\n",
    "\n",
    "ax.set_xlim(-0.5,73.55)\n",
    "ax.set_ylim(-3,22.95)\n",
    "cbar=fig.colorbar(im, orientation='vertical', label='Temperature (K)')\n",
    "\n",
    "ax.spines['left'].set_visible(False)\n",
    "ax.spines['top'].set_visible(False)\n",
    "ax.spines['right'].set_visible(False)\n",
    "ax.spines['bottom'].set_visible(False)\n",
    "ax.axis('off')"
   ]
  },
  {
   "cell_type": "code",
   "execution_count": 193,
   "metadata": {},
   "outputs": [],
   "source": [
    "env.request_evauation_template()"
   ]
  },
  {
   "cell_type": "code",
   "execution_count": 194,
   "metadata": {},
   "outputs": [
    {
     "data": {
      "text/plain": [
       "0.9169303521302516"
      ]
     },
     "execution_count": 194,
     "metadata": {},
     "output_type": "execute_result"
    }
   ],
   "source": [
    "template=pd.read_csv('D:/Research Working Folder/Paper_1-Mobile Sensing Virtual Environment/Template_demo_Dyna_2.csv')\n",
    "\n",
    "X=template.iloc[:,1].values\n",
    "Y=template.iloc[:,2].values\n",
    "\n",
    "nor_X=np.zeros(len(template))\n",
    "nor_Y=np.zeros(len(template))\n",
    "\n",
    "for i in range(2):\n",
    "    nor_X[:]=(X[:]-measurement_log[:,i].min())/(measurement_log[:,i].max()-measurement_log[:,i].min())\n",
    "    nor_Y[:]=(Y[:]-measurement_log[:,i].min())/(measurement_log[:,i].max()-measurement_log[:,i].min())\n",
    "\n",
    "\n",
    "\n",
    "Z=fglobal[1]+reg.intercept_+reg.coef_[0]*nor_X[:]+reg.coef_[1]*nor_Y[:]+reg.coef_[2]*nor_xflat[0,2]\n",
    "\n",
    "\n",
    "for i in range(len(template)):\n",
    "    template.iloc[i,3]=Z[i]\n",
    "\n",
    "template.to_csv('D:/Research Working Folder/Paper_1-Mobile Sensing Virtual Environment/Template_demo_Dyna_2.csv', index=0)\n",
    "\n",
    "env.compute_accuracy()"
   ]
  },
  {
   "cell_type": "code",
   "execution_count": null,
   "metadata": {},
   "outputs": [],
   "source": []
  },
  {
   "cell_type": "code",
   "execution_count": null,
   "metadata": {},
   "outputs": [],
   "source": []
  },
  {
   "cell_type": "code",
   "execution_count": 199,
   "metadata": {},
   "outputs": [],
   "source": [
    "from sklearn import svm"
   ]
  },
  {
   "cell_type": "code",
   "execution_count": 217,
   "metadata": {},
   "outputs": [],
   "source": [
    "regr=svm.SVR()\n",
    "regr.fit(nor_measurement_log[:-1, 0:3], r_i)\n",
    "\n",
    "target_time=2000\n",
    "\n",
    "xgrid=np.mgrid[-0.5:73.55:100j, -3:22.95:100j]\n",
    "xflat = xgrid.reshape(2, -1).T\n",
    "t_array=np.zeros((10000,1))+target_time\n",
    "xflat=np.concatenate([xflat, t_array], axis=1)\n",
    "\n",
    "nor_xflat=np.zeros((10000,3))\n",
    "for i in range(3):\n",
    "    nor_xflat[:,i]=(xflat[:,i]-measurement_log[:,i].min())/(measurement_log[:,i].max()-measurement_log[:,i].min())\n",
    "    \n",
    "\n",
    "fglobal=loess_1d.loess_1d(x=t,y=v, xnew=np.array([target_time]))\n",
    "\n",
    "newz=regr.predict(nor_xflat)+fglobal[1]"
   ]
  },
  {
   "cell_type": "code",
   "execution_count": 219,
   "metadata": {},
   "outputs": [
    {
     "data": {
      "text/plain": [
       "296.92053990036516"
      ]
     },
     "execution_count": 219,
     "metadata": {},
     "output_type": "execute_result"
    }
   ],
   "source": [
    "newz.max()"
   ]
  },
  {
   "cell_type": "code",
   "execution_count": 210,
   "metadata": {},
   "outputs": [],
   "source": [
    "data=env.stdata[['X', 'Y']]\n",
    "\n",
    "delta=1.5\n",
    "\n",
    "for i in range(10000):\n",
    "    bb=xflat[i,:]\n",
    "    judge_array=[0,0,0,0]\n",
    "    window_data=data.loc[(data['X']>(bb[0]-delta)) & (data['X']<(bb[0]+delta)) & \n",
    "    (data['Y']>(bb[1]-delta)) & (data['Y']<(bb[1]+delta)), ['X', 'Y']]\n",
    "    judge_array[0]=window_data.loc[(window_data['X']<bb[0]) & (window_data['Y']<bb[1])].empty\n",
    "    judge_array[1]=window_data.loc[(window_data['X']<bb[0]) & (window_data['Y']>bb[1])].empty\n",
    "    judge_array[2]=window_data.loc[(window_data['X']>bb[0]) & (window_data['Y']<bb[1])].empty\n",
    "    judge_array[3]=window_data.loc[(window_data['X']>bb[0]) & (window_data['Y']>bb[1])].empty\n",
    "    if True in judge_array:\n",
    "        newz[i]=np.nan \n",
    "\n",
    "\n",
    "ygrid = newz.reshape(100, 100)"
   ]
  },
  {
   "cell_type": "code",
   "execution_count": 216,
   "metadata": {},
   "outputs": [
    {
     "data": {
      "text/plain": [
       "(-0.5, 73.55, -3.0, 22.95)"
      ]
     },
     "execution_count": 216,
     "metadata": {},
     "output_type": "execute_result"
    },
    {
     "data": {
      "image/png": "[encoded data removed]",
      "text/plain": [
       "<Figure size 1296x432 with 2 Axes>"
      ]
     },
     "metadata": {
      "needs_background": "light"
     },
     "output_type": "display_data"
    }
   ],
   "source": [
    "fig, ax=plt.subplots(1,1,figsize=(18,6))\n",
    "im=ax.pcolormesh(*xgrid, ygrid, shading='auto', cmap='rainbow')\n",
    "im_m=ax.plot(x, y, \"ok\", label=\"input point\")\n",
    "\n",
    "ax.set_xlim(-0.5,73.55)\n",
    "ax.set_ylim(-3,22.95)\n",
    "cbar=fig.colorbar(im, orientation='vertical', label='Temperature (K)')\n",
    "\n",
    "ax.spines['left'].set_visible(False)\n",
    "ax.spines['top'].set_visible(False)\n",
    "ax.spines['right'].set_visible(False)\n",
    "ax.spines['bottom'].set_visible(False)\n",
    "ax.axis('off')"
   ]
  },
  {
   "cell_type": "code",
   "execution_count": null,
   "metadata": {},
   "outputs": [],
   "source": []
  },
  {
   "cell_type": "code",
   "execution_count": 220,
   "metadata": {},
   "outputs": [],
   "source": [
    "from sklearn.neighbors import KNeighborsRegressor"
   ]
  },
  {
   "cell_type": "code",
   "execution_count": 247,
   "metadata": {},
   "outputs": [],
   "source": [
    "neigh = KNeighborsRegressor(n_neighbors=5, weights='distance')\n",
    "\n",
    "\n",
    "neigh.fit(nor_measurement_log[:-1, 0:3], r_i)\n",
    "\n",
    "target_time=2000\n",
    "\n",
    "xgrid=np.mgrid[-0.5:73.55:100j, -3:22.95:100j]\n",
    "xflat = xgrid.reshape(2, -1).T\n",
    "t_array=np.zeros((10000,1))+target_time\n",
    "xflat=np.concatenate([xflat, t_array], axis=1)\n",
    "\n",
    "nor_xflat=np.zeros((10000,3))\n",
    "for i in range(3):\n",
    "    nor_xflat[:,i]=(xflat[:,i]-measurement_log[:,i].min())/(measurement_log[:,i].max()-measurement_log[:,i].min())\n",
    "    \n",
    "\n",
    "fglobal=loess_1d.loess_1d(x=t,y=v, xnew=np.array([target_time]))\n",
    "\n",
    "newz=neigh.predict(nor_xflat)+fglobal[1]\n",
    "\n"
   ]
  },
  {
   "cell_type": "code",
   "execution_count": 248,
   "metadata": {},
   "outputs": [],
   "source": [
    "data=env.stdata[['X', 'Y']]\n",
    "\n",
    "delta=1.5\n",
    "\n",
    "for i in range(10000):\n",
    "    bb=xflat[i,:]\n",
    "    judge_array=[0,0,0,0]\n",
    "    window_data=data.loc[(data['X']>(bb[0]-delta)) & (data['X']<(bb[0]+delta)) & \n",
    "    (data['Y']>(bb[1]-delta)) & (data['Y']<(bb[1]+delta)), ['X', 'Y']]\n",
    "    judge_array[0]=window_data.loc[(window_data['X']<bb[0]) & (window_data['Y']<bb[1])].empty\n",
    "    judge_array[1]=window_data.loc[(window_data['X']<bb[0]) & (window_data['Y']>bb[1])].empty\n",
    "    judge_array[2]=window_data.loc[(window_data['X']>bb[0]) & (window_data['Y']<bb[1])].empty\n",
    "    judge_array[3]=window_data.loc[(window_data['X']>bb[0]) & (window_data['Y']>bb[1])].empty\n",
    "    if True in judge_array:\n",
    "        newz[i]=np.nan \n",
    "\n",
    "\n",
    "ygrid = newz.reshape(100, 100)"
   ]
  },
  {
   "cell_type": "code",
   "execution_count": 250,
   "metadata": {},
   "outputs": [
    {
     "data": {
      "text/plain": [
       "(-0.5, 73.55, -3.0, 22.95)"
      ]
     },
     "execution_count": 250,
     "metadata": {},
     "output_type": "execute_result"
    },
    {
     "data": {
      "image/png": "[encoded data removed]",
      "text/plain": [
       "<Figure size 1296x432 with 2 Axes>"
      ]
     },
     "metadata": {
      "needs_background": "light"
     },
     "output_type": "display_data"
    }
   ],
   "source": [
    "fig, ax=plt.subplots(1,1,figsize=(18,6))\n",
    "im=ax.pcolormesh(*xgrid, ygrid, shading='auto', cmap='rainbow', vmin=293, vmax=298)\n",
    "im_m=ax.plot(x, y, \"ok\", label=\"input point\")\n",
    "\n",
    "ax.set_xlim(-0.5,73.55)\n",
    "ax.set_ylim(-3,22.95)\n",
    "cbar=fig.colorbar(im, orientation='vertical', label='Temperature (K)')\n",
    "\n",
    "ax.spines['left'].set_visible(False)\n",
    "ax.spines['top'].set_visible(False)\n",
    "ax.spines['right'].set_visible(False)\n",
    "ax.spines['bottom'].set_visible(False)\n",
    "ax.axis('off')"
   ]
  },
  {
   "cell_type": "code",
   "execution_count": 251,
   "metadata": {},
   "outputs": [],
   "source": [
    "env.request_evauation_template()"
   ]
  },
  {
   "cell_type": "code",
   "execution_count": 252,
   "metadata": {},
   "outputs": [
    {
     "data": {
      "text/plain": [
       "1.0223045828612034"
      ]
     },
     "execution_count": 252,
     "metadata": {},
     "output_type": "execute_result"
    }
   ],
   "source": [
    "template=pd.read_csv('D:/Research Working Folder/Paper_1-Mobile Sensing Virtual Environment/Template_demo_Dyna_3.csv')\n",
    "\n",
    "X=template.iloc[:,1].values\n",
    "Y=template.iloc[:,2].values\n",
    "\n",
    "nor_X=np.zeros(len(template))\n",
    "nor_Y=np.zeros(len(template))\n",
    "\n",
    "for i in range(2):\n",
    "    nor_X[:]=(X[:]-measurement_log[:,i].min())/(measurement_log[:,i].max()-measurement_log[:,i].min())\n",
    "    nor_Y[:]=(Y[:]-measurement_log[:,i].min())/(measurement_log[:,i].max()-measurement_log[:,i].min())\n",
    "\n",
    "\n",
    "\n",
    "Z=fglobal[1]+reg.intercept_+reg.coef_[0]*nor_X[:]+reg.coef_[1]*nor_Y[:]+reg.coef_[2]*nor_xflat[0,2]\n",
    "\n",
    "\n",
    "for i in range(len(template)):\n",
    "    template.iloc[i,3]=Z[i]\n",
    "\n",
    "template.to_csv('D:/Research Working Folder/Paper_1-Mobile Sensing Virtual Environment/Template_demo_Dyna_3.csv', index=0)\n",
    "\n",
    "env.compute_accuracy()"
   ]
  },
  {
   "cell_type": "code",
   "execution_count": null,
   "metadata": {},
   "outputs": [],
   "source": []
  },
  {
   "cell_type": "code",
   "execution_count": 262,
   "metadata": {},
   "outputs": [],
   "source": [
    "from sklearn.ensemble import AdaBoostRegressor"
   ]
  },
  {
   "cell_type": "code",
   "execution_count": 275,
   "metadata": {},
   "outputs": [],
   "source": [
    "regr = AdaBoostRegressor(random_state=0, n_estimators=100)\n",
    "\n",
    "#regr.fit(nor_measurement_log[:-1, 0:3], r_i)\n",
    "regr.fit(measurement_log[:-1, 0:3], r_i)\n",
    "\n",
    "\n",
    "target_time=2000\n",
    "\n",
    "xgrid=np.mgrid[-0.5:73.55:100j, -3:22.95:100j]\n",
    "xflat = xgrid.reshape(2, -1).T\n",
    "t_array=np.zeros((10000,1))+target_time\n",
    "xflat=np.concatenate([xflat, t_array], axis=1)\n",
    "\n",
    "#nor_xflat=np.zeros((10000,3))\n",
    "#for i in range(3):\n",
    "    #nor_xflat[:,i]=(xflat[:,i]-measurement_log[:,i].min())/(measurement_log[:,i].max()-measurement_log[:,i].min())\n",
    "    \n",
    "\n",
    "fglobal=loess_1d.loess_1d(x=t,y=v, xnew=np.array([target_time]))\n",
    "\n",
    "#newz=regr.predict(nor_xflat)+fglobal[1]\n",
    "newz=regr.predict(xflat)+fglobal[1]"
   ]
  },
  {
   "cell_type": "code",
   "execution_count": 276,
   "metadata": {},
   "outputs": [
    {
     "data": {
      "text/plain": [
       "-28.095920572722363"
      ]
     },
     "execution_count": 276,
     "metadata": {},
     "output_type": "execute_result"
    }
   ],
   "source": [
    "regr.score(nor_measurement_log[:-1, 0:3], r_i)"
   ]
  },
  {
   "cell_type": "code",
   "execution_count": 278,
   "metadata": {},
   "outputs": [
    {
     "data": {
      "text/plain": [
       "array([[ 3.50000000e+00,  3.00000000e+00,  0.00000000e+00,\n",
       "         3.00000000e+02],\n",
       "       [ 3.50000000e+00,  8.00000000e+00,  4.00000000e+01,\n",
       "         2.98157501e+02],\n",
       "       [ 3.50000000e+00,  1.30000000e+01,  8.00000000e+01,\n",
       "         2.98247864e+02],\n",
       "       [ 8.00000000e+00,  1.30000000e+01,  1.40000000e+02,\n",
       "         2.98019958e+02],\n",
       "       [ 8.00000000e+00,  8.00000000e+00,  1.80000000e+02,\n",
       "         2.97893524e+02],\n",
       "       [ 8.00000000e+00,  3.00000000e+00,  2.20000000e+02,\n",
       "         2.97400238e+02],\n",
       "       [ 1.25000000e+01,  3.00000000e+00,  2.80000000e+02,\n",
       "         2.97206207e+02],\n",
       "       [ 1.25000000e+01,  8.00000000e+00,  3.20000000e+02,\n",
       "         2.97086334e+02],\n",
       "       [ 1.25000000e+01,  1.30000000e+01,  3.60000000e+02,\n",
       "         2.96796326e+02],\n",
       "       [ 1.70000000e+01,  1.30000000e+01,  4.20000000e+02,\n",
       "         2.96851013e+02],\n",
       "       [ 1.70000000e+01,  7.50000000e+00,  4.90000000e+02,\n",
       "         2.96633789e+02],\n",
       "       [ 2.15000000e+01,  7.50000000e+00,  5.50000000e+02,\n",
       "         2.96500397e+02],\n",
       "       [ 2.15000000e+01,  1.30000000e+01,  6.20000000e+02,\n",
       "         2.96440277e+02],\n",
       "       [ 2.60000000e+01,  1.30000000e+01,  6.80000000e+02,\n",
       "         2.96331238e+02],\n",
       "       [ 2.60000000e+01,  8.00000000e+00,  7.20000000e+02,\n",
       "         2.96331787e+02],\n",
       "       [ 2.60000000e+01,  3.00000000e+00,  7.60000000e+02,\n",
       "         2.96250305e+02],\n",
       "       [ 3.05000000e+01,  3.00000000e+00,  8.20000000e+02,\n",
       "         2.95980255e+02],\n",
       "       [ 3.05000000e+01,  9.00000000e+00,  8.65000000e+02,\n",
       "         2.96350861e+02],\n",
       "       [ 3.50000000e+01,  9.00000000e+00,  9.25000000e+02,\n",
       "         2.96563812e+02],\n",
       "       [ 3.50000000e+01,  4.00000000e+00,  9.65000000e+02,\n",
       "         2.96305115e+02],\n",
       "       [ 3.50000000e+01, -1.00000000e+00,  1.00500000e+03,\n",
       "         2.96776917e+02],\n",
       "       [ 3.95000000e+01, -1.00000000e+00,  1.06500000e+03,\n",
       "         2.96517853e+02],\n",
       "       [ 3.95000000e+01,  4.00000000e+00,  1.10500000e+03,\n",
       "         2.96705078e+02],\n",
       "       [ 3.95000000e+01,  9.00000000e+00,  1.14500000e+03,\n",
       "         2.96463837e+02],\n",
       "       [ 4.40000000e+01,  9.00000000e+00,  1.20500000e+03,\n",
       "         2.96562378e+02],\n",
       "       [ 4.40000000e+01,  4.00000000e+00,  1.24500000e+03,\n",
       "         2.96509186e+02],\n",
       "       [ 4.40000000e+01, -1.00000000e+00,  1.28500000e+03,\n",
       "         2.96604431e+02],\n",
       "       [ 4.85000000e+01, -1.00000000e+00,  1.34500000e+03,\n",
       "         2.96321472e+02],\n",
       "       [ 4.85000000e+01,  4.00000000e+00,  1.38500000e+03,\n",
       "         2.96669128e+02],\n",
       "       [ 4.85000000e+01,  9.00000000e+00,  1.42500000e+03,\n",
       "         2.96275269e+02],\n",
       "       [ 5.30000000e+01,  9.00000000e+00,  1.48500000e+03,\n",
       "         2.95889038e+02],\n",
       "       [ 5.30000000e+01,  1.50000000e+01,  1.53000000e+03,\n",
       "         2.96504273e+02],\n",
       "       [ 5.30000000e+01,  2.10000000e+01,  1.57500000e+03,\n",
       "         2.96158814e+02],\n",
       "       [ 5.75000000e+01,  2.10000000e+01,  1.63500000e+03,\n",
       "         2.96454895e+02],\n",
       "       [ 5.75000000e+01,  1.50000000e+01,  1.68000000e+03,\n",
       "         2.96308533e+02],\n",
       "       [ 5.75000000e+01,  9.00000000e+00,  1.72500000e+03,\n",
       "         2.96657440e+02],\n",
       "       [ 6.20000000e+01,  9.00000000e+00,  1.78500000e+03,\n",
       "         2.96468872e+02],\n",
       "       [ 6.20000000e+01,  4.00000000e+00,  1.82500000e+03,\n",
       "         2.96621521e+02],\n",
       "       [ 6.20000000e+01, -1.00000000e+00,  1.86500000e+03,\n",
       "         2.96772034e+02],\n",
       "       [ 6.65000000e+01, -1.00000000e+00,  1.92500000e+03,\n",
       "         2.96656982e+02],\n",
       "       [ 6.65000000e+01,  4.00000000e+00,  1.96500000e+03,\n",
       "         2.96967987e+02],\n",
       "       [ 6.65000000e+01,  9.00000000e+00,  2.00500000e+03,\n",
       "         2.96801239e+02],\n",
       "       [ 6.65000000e+01,  9.00000000e+00,  2.00500000e+03,\n",
       "         2.96801239e+02]])"
      ]
     },
     "execution_count": 278,
     "metadata": {},
     "output_type": "execute_result"
    }
   ],
   "source": [
    "measurement_log"
   ]
  },
  {
   "cell_type": "code",
   "execution_count": 268,
   "metadata": {},
   "outputs": [],
   "source": [
    "data=env.stdata[['X', 'Y']]\n",
    "\n",
    "delta=1.5\n",
    "\n",
    "for i in range(10000):\n",
    "    bb=xflat[i,:]\n",
    "    judge_array=[0,0,0,0]\n",
    "    window_data=data.loc[(data['X']>(bb[0]-delta)) & (data['X']<(bb[0]+delta)) & \n",
    "    (data['Y']>(bb[1]-delta)) & (data['Y']<(bb[1]+delta)), ['X', 'Y']]\n",
    "    judge_array[0]=window_data.loc[(window_data['X']<bb[0]) & (window_data['Y']<bb[1])].empty\n",
    "    judge_array[1]=window_data.loc[(window_data['X']<bb[0]) & (window_data['Y']>bb[1])].empty\n",
    "    judge_array[2]=window_data.loc[(window_data['X']>bb[0]) & (window_data['Y']<bb[1])].empty\n",
    "    judge_array[3]=window_data.loc[(window_data['X']>bb[0]) & (window_data['Y']>bb[1])].empty\n",
    "    if True in judge_array:\n",
    "        newz[i]=np.nan \n",
    "\n",
    "\n",
    "ygrid = newz.reshape(100, 100)"
   ]
  },
  {
   "cell_type": "code",
   "execution_count": 271,
   "metadata": {},
   "outputs": [
    {
     "data": {
      "text/plain": [
       "(-0.5, 73.55, -3.0, 22.95)"
      ]
     },
     "execution_count": 271,
     "metadata": {},
     "output_type": "execute_result"
    },
    {
     "data": {
      "image/png": "[encoded data removed]",
      "text/plain": [
       "<Figure size 1296x432 with 2 Axes>"
      ]
     },
     "metadata": {
      "needs_background": "light"
     },
     "output_type": "display_data"
    }
   ],
   "source": [
    "fig, ax=plt.subplots(1,1,figsize=(18,6))\n",
    "im=ax.pcolormesh(*xgrid, ygrid, shading='auto', cmap='rainbow', vmin=295, vmax=297)\n",
    "im_m=ax.plot(x, y, \"ok\", label=\"input point\")\n",
    "\n",
    "ax.set_xlim(-0.5,73.55)\n",
    "ax.set_ylim(-3,22.95)\n",
    "cbar=fig.colorbar(im, orientation='vertical', label='Temperature (K)')\n",
    "\n",
    "ax.spines['left'].set_visible(False)\n",
    "ax.spines['top'].set_visible(False)\n",
    "ax.spines['right'].set_visible(False)\n",
    "ax.spines['bottom'].set_visible(False)\n",
    "ax.axis('off')"
   ]
  },
  {
   "cell_type": "code",
   "execution_count": null,
   "metadata": {},
   "outputs": [],
   "source": []
  },
  {
   "cell_type": "code",
   "execution_count": 279,
   "metadata": {},
   "outputs": [],
   "source": [
    "from sklearn.ensemble import RandomForestRegressor"
   ]
  },
  {
   "cell_type": "code",
   "execution_count": 285,
   "metadata": {},
   "outputs": [],
   "source": [
    "regr = RandomForestRegressor(random_state=0)\n",
    "\n",
    "regr.fit(nor_measurement_log[:-1, 0:3], r_i)\n",
    "#regr.fit(measurement_log[:-1, 0:3], r_i)\n",
    "\n",
    "\n",
    "target_time=2000\n",
    "\n",
    "xgrid=np.mgrid[-0.5:73.55:100j, -3:22.95:100j]\n",
    "xflat = xgrid.reshape(2, -1).T\n",
    "t_array=np.zeros((10000,1))+target_time\n",
    "xflat=np.concatenate([xflat, t_array], axis=1)\n",
    "\n",
    "nor_xflat=np.zeros((10000,3))\n",
    "for i in range(3):\n",
    "    nor_xflat[:,i]=(xflat[:,i]-measurement_log[:,i].min())/(measurement_log[:,i].max()-measurement_log[:,i].min())\n",
    "    \n",
    "\n",
    "fglobal=loess_1d.loess_1d(x=t,y=v, xnew=np.array([target_time]))\n",
    "\n",
    "newz=regr.predict(nor_xflat)+fglobal[1]\n",
    "#newz=regr.predict(xflat)+fglobal[1]"
   ]
  },
  {
   "cell_type": "code",
   "execution_count": 286,
   "metadata": {},
   "outputs": [],
   "source": [
    "data=env.stdata[['X', 'Y']]\n",
    "\n",
    "delta=1.5\n",
    "\n",
    "for i in range(10000):\n",
    "    bb=xflat[i,:]\n",
    "    judge_array=[0,0,0,0]\n",
    "    window_data=data.loc[(data['X']>(bb[0]-delta)) & (data['X']<(bb[0]+delta)) & \n",
    "    (data['Y']>(bb[1]-delta)) & (data['Y']<(bb[1]+delta)), ['X', 'Y']]\n",
    "    judge_array[0]=window_data.loc[(window_data['X']<bb[0]) & (window_data['Y']<bb[1])].empty\n",
    "    judge_array[1]=window_data.loc[(window_data['X']<bb[0]) & (window_data['Y']>bb[1])].empty\n",
    "    judge_array[2]=window_data.loc[(window_data['X']>bb[0]) & (window_data['Y']<bb[1])].empty\n",
    "    judge_array[3]=window_data.loc[(window_data['X']>bb[0]) & (window_data['Y']>bb[1])].empty\n",
    "    if True in judge_array:\n",
    "        newz[i]=np.nan \n",
    "\n",
    "\n",
    "ygrid = newz.reshape(100, 100)"
   ]
  },
  {
   "cell_type": "code",
   "execution_count": 287,
   "metadata": {},
   "outputs": [
    {
     "data": {
      "text/plain": [
       "(-0.5, 73.55, -3.0, 22.95)"
      ]
     },
     "execution_count": 287,
     "metadata": {},
     "output_type": "execute_result"
    },
    {
     "data": {
      "image/png": "[encoded data removed]",
      "text/plain": [
       "<Figure size 1296x432 with 2 Axes>"
      ]
     },
     "metadata": {
      "needs_background": "light"
     },
     "output_type": "display_data"
    }
   ],
   "source": [
    "fig, ax=plt.subplots(1,1,figsize=(18,6))\n",
    "im=ax.pcolormesh(*xgrid, ygrid, shading='auto', cmap='rainbow', vmin=295, vmax=297)\n",
    "im_m=ax.plot(x, y, \"ok\", label=\"input point\")\n",
    "\n",
    "ax.set_xlim(-0.5,73.55)\n",
    "ax.set_ylim(-3,22.95)\n",
    "cbar=fig.colorbar(im, orientation='vertical', label='Temperature (K)')\n",
    "\n",
    "ax.spines['left'].set_visible(False)\n",
    "ax.spines['top'].set_visible(False)\n",
    "ax.spines['right'].set_visible(False)\n",
    "ax.spines['bottom'].set_visible(False)\n",
    "ax.axis('off')"
   ]
  },
  {
   "cell_type": "code",
   "execution_count": null,
   "metadata": {},
   "outputs": [],
   "source": []
  },
  {
   "cell_type": "code",
   "execution_count": null,
   "metadata": {},
   "outputs": [],
   "source": []
  },
  {
   "cell_type": "code",
   "execution_count": null,
   "metadata": {},
   "outputs": [],
   "source": []
  },
  {
   "cell_type": "code",
   "execution_count": null,
   "metadata": {},
   "outputs": [],
   "source": []
  },
  {
   "cell_type": "code",
   "execution_count": null,
   "metadata": {},
   "outputs": [],
   "source": []
  },
  {
   "cell_type": "code",
   "execution_count": 166,
   "metadata": {},
   "outputs": [],
   "source": [
    "reg=linear_model.Lasso(alpha=0.5)\n",
    "reg.fit(nor_measurement_log[:-1, 0:3], r_i)\n",
    "target_time=2000\n",
    "\n",
    "xgrid=np.mgrid[-0.5:73.55:100j, -3:22.95:100j]\n",
    "xflat = xgrid.reshape(2, -1).T\n",
    "t_array=np.zeros((10000,1))+target_time\n",
    "xflat=np.concatenate([xflat, t_array], axis=1)\n",
    "\n",
    "nor_xflat=np.zeros((10000,3))\n",
    "for i in range(3):\n",
    "    nor_xflat[:,i]=(xflat[:,i]-measurement_log[:,i].min())/(measurement_log[:,i].max()-measurement_log[:,i].min())\n",
    "    \n",
    "\n",
    "fglobal=loess_1d.loess_1d(x=t,y=v, xnew=np.array([target_time]))\n",
    "\n",
    "newz=reg.predict(nor_xflat)+fglobal[1]\n"
   ]
  },
  {
   "cell_type": "code",
   "execution_count": 168,
   "metadata": {},
   "outputs": [
    {
     "data": {
      "text/plain": [
       "array([0.00092161, 0.00092161, 0.00092161, ..., 0.00092161, 0.00092161,\n",
       "       0.00092161])"
      ]
     },
     "execution_count": 168,
     "metadata": {},
     "output_type": "execute_result"
    }
   ],
   "source": [
    "reg.predict(nor_xflat)"
   ]
  },
  {
   "cell_type": "code",
   "execution_count": 299,
   "metadata": {},
   "outputs": [
    {
     "data": {
      "text/plain": [
       "array([[-0.06349206, -0.09090909,  0.99750623],\n",
       "       [-0.06349206, -0.07899449,  0.99750623],\n",
       "       [-0.06349206, -0.06707989,  0.99750623],\n",
       "       ...,\n",
       "       [ 1.11190476,  1.06480716,  0.99750623],\n",
       "       [ 1.11190476,  1.07672176,  0.99750623],\n",
       "       [ 1.11190476,  1.08863636,  0.99750623]])"
      ]
     },
     "execution_count": 299,
     "metadata": {},
     "output_type": "execute_result"
    }
   ],
   "source": [
    "nor_xflat"
   ]
  },
  {
   "cell_type": "code",
   "execution_count": 300,
   "metadata": {},
   "outputs": [
    {
     "data": {
      "text/plain": [
       "array([[0.        , 0.18181818, 0.        ],\n",
       "       [0.        , 0.40909091, 0.01995012],\n",
       "       [0.        , 0.63636364, 0.03990025],\n",
       "       [0.07142857, 0.63636364, 0.06982544],\n",
       "       [0.07142857, 0.40909091, 0.08977556],\n",
       "       [0.07142857, 0.18181818, 0.10972569],\n",
       "       [0.14285714, 0.18181818, 0.13965087],\n",
       "       [0.14285714, 0.40909091, 0.159601  ],\n",
       "       [0.14285714, 0.63636364, 0.17955112],\n",
       "       [0.21428571, 0.63636364, 0.20947631],\n",
       "       [0.21428571, 0.38636364, 0.24438903],\n",
       "       [0.28571429, 0.38636364, 0.27431421],\n",
       "       [0.28571429, 0.63636364, 0.30922693],\n",
       "       [0.35714286, 0.63636364, 0.33915212],\n",
       "       [0.35714286, 0.40909091, 0.35910224],\n",
       "       [0.35714286, 0.18181818, 0.37905237],\n",
       "       [0.42857143, 0.18181818, 0.40897756],\n",
       "       [0.42857143, 0.45454545, 0.43142145],\n",
       "       [0.5       , 0.45454545, 0.46134663],\n",
       "       [0.5       , 0.22727273, 0.48129676],\n",
       "       [0.5       , 0.        , 0.50124688],\n",
       "       [0.57142857, 0.        , 0.53117207],\n",
       "       [0.57142857, 0.22727273, 0.55112219],\n",
       "       [0.57142857, 0.45454545, 0.57107232],\n",
       "       [0.64285714, 0.45454545, 0.60099751],\n",
       "       [0.64285714, 0.22727273, 0.62094763],\n",
       "       [0.64285714, 0.        , 0.64089776],\n",
       "       [0.71428571, 0.        , 0.67082294],\n",
       "       [0.71428571, 0.22727273, 0.69077307],\n",
       "       [0.71428571, 0.45454545, 0.71072319],\n",
       "       [0.78571429, 0.45454545, 0.74064838],\n",
       "       [0.78571429, 0.72727273, 0.76309227],\n",
       "       [0.78571429, 1.        , 0.78553616],\n",
       "       [0.85714286, 1.        , 0.81546135],\n",
       "       [0.85714286, 0.72727273, 0.83790524],\n",
       "       [0.85714286, 0.45454545, 0.86034913],\n",
       "       [0.92857143, 0.45454545, 0.89027431],\n",
       "       [0.92857143, 0.22727273, 0.91022444],\n",
       "       [0.92857143, 0.        , 0.93017456],\n",
       "       [1.        , 0.        , 0.96009975],\n",
       "       [1.        , 0.22727273, 0.98004988],\n",
       "       [1.        , 0.45454545, 1.        ],\n",
       "       [1.        , 0.45454545, 1.        ]])"
      ]
     },
     "execution_count": 300,
     "metadata": {},
     "output_type": "execute_result"
    }
   ],
   "source": [
    "nor_measurement_log[:, 0:3]"
   ]
  },
  {
   "cell_type": "code",
   "execution_count": 289,
   "metadata": {},
   "outputs": [],
   "source": [
    "data=env.stdata[['X', 'Y']]\n",
    "\n",
    "delta=1.5\n",
    "\n",
    "for i in range(10000):\n",
    "    bb=xflat[i,:]\n",
    "    judge_array=[0,0,0,0]\n",
    "    window_data=data.loc[(data['X']>(bb[0]-delta)) & (data['X']<(bb[0]+delta)) & \n",
    "    (data['Y']>(bb[1]-delta)) & (data['Y']<(bb[1]+delta)), ['X', 'Y']]\n",
    "    judge_array[0]=window_data.loc[(window_data['X']<bb[0]) & (window_data['Y']<bb[1])].empty\n",
    "    judge_array[1]=window_data.loc[(window_data['X']<bb[0]) & (window_data['Y']>bb[1])].empty\n",
    "    judge_array[2]=window_data.loc[(window_data['X']>bb[0]) & (window_data['Y']<bb[1])].empty\n",
    "    judge_array[3]=window_data.loc[(window_data['X']>bb[0]) & (window_data['Y']>bb[1])].empty\n",
    "    if True in judge_array:\n",
    "        newz[i]=np.nan \n",
    "\n",
    "\n",
    "ygrid = newz.reshape(100, 100)"
   ]
  },
  {
   "cell_type": "code",
   "execution_count": 293,
   "metadata": {},
   "outputs": [
    {
     "data": {
      "text/plain": [
       "(-0.5, 73.55, -3.0, 22.95)"
      ]
     },
     "execution_count": 293,
     "metadata": {},
     "output_type": "execute_result"
    },
    {
     "data": {
      "image/png": "[encoded data removed]",
      "text/plain": [
       "<Figure size 1296x432 with 2 Axes>"
      ]
     },
     "metadata": {
      "needs_background": "light"
     },
     "output_type": "display_data"
    }
   ],
   "source": [
    "fig, ax=plt.subplots(1,1,figsize=(18,6))\n",
    "im=ax.pcolormesh(*xgrid, ygrid, shading='auto', cmap='rainbow')\n",
    "im_m=ax.plot(x, y, \"ok\", label=\"input point\")\n",
    "\n",
    "ax.set_xlim(-0.5,73.55)\n",
    "ax.set_ylim(-3,22.95)\n",
    "cbar=fig.colorbar(im, orientation='vertical', label='Temperature (K)')\n",
    "\n",
    "ax.spines['left'].set_visible(False)\n",
    "ax.spines['top'].set_visible(False)\n",
    "ax.spines['right'].set_visible(False)\n",
    "ax.spines['bottom'].set_visible(False)\n",
    "ax.axis('off')"
   ]
  },
  {
   "cell_type": "code",
   "execution_count": null,
   "metadata": {},
   "outputs": [],
   "source": []
  }
 ],
 "metadata": {
  "kernelspec": {
   "display_name": "Python 3.9.12 ('base')",
   "language": "python",
   "name": "python3"
  },
  "language_info": {
   "codemirror_mode": {
    "name": "ipython",
    "version": 3
   },
   "file_extension": ".py",
   "mimetype": "text/x-python",
   "name": "python",
   "nbconvert_exporter": "python",
   "pygments_lexer": "ipython3",
   "version": "3.9.12"
  },
  "orig_nbformat": 4,
  "vscode": {
   "interpreter": {
    "hash": "ad2bdc8ecc057115af97d19610ffacc2b4e99fae6737bb82f5d7fb13d2f2c186"
   }
  }
 },
 "nbformat": 4,
 "nbformat_minor": 2
}
