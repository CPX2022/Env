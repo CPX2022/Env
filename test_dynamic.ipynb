{
 "cells": [
  {
   "cell_type": "code",
   "execution_count": 2,
   "metadata": {},
   "outputs": [],
   "source": [
    "import sys\n",
    "PATH_TO_ROOT='D:/My Repository'\n",
    "sys.path.insert(0, PATH_TO_ROOT)"
   ]
  },
  {
   "cell_type": "code",
   "execution_count": 3,
   "metadata": {},
   "outputs": [],
   "source": [
    "import pandas as pd\n",
    "import numpy as np\n",
    "from AlphaMobileSensing import Msenseing"
   ]
  },
  {
   "cell_type": "code",
   "execution_count": 4,
   "metadata": {},
   "outputs": [
    {
     "name": "stderr",
     "output_type": "stream",
     "text": [
      "C:\\Users\\qizho\\AppData\\Roaming\\Python\\Python39\\site-packages\\gym\\spaces\\box.py:112: UserWarning: \u001b[33mWARN: Box bound precision lowered by casting to float64\u001b[0m\n",
      "  logger.warn(f\"Box bound precision lowered by casting to {self.dtype}\")\n"
     ]
    }
   ],
   "source": [
    "datapath='D:/Research Working Folder/Paper_1-Mobile Sensing Virtual Environment/dynamic_50cm_DEMO_new.csv'\n",
    "\n",
    "\n",
    "env=Msenseing.AlphaMoSeEnv(datapath, 2500, 1, 15, (3.5, 3), 2, (0.5, 0.5), 500)"
   ]
  },
  {
   "cell_type": "code",
   "execution_count": 5,
   "metadata": {},
   "outputs": [],
   "source": [
    "action_series_df=pd.read_excel('D:/Research Working Folder/Paper_1-Mobile Sensing Virtual Environment/action series for test.xlsx')"
   ]
  },
  {
   "cell_type": "code",
   "execution_count": 121,
   "metadata": {},
   "outputs": [
    {
     "name": "stdout",
     "output_type": "stream",
     "text": [
      "Episode: 3\n",
      "Total moving distance (m)\n",
      "204.0\n",
      "Total moving time (s)\n",
      "1390.0\n"
     ]
    }
   ],
   "source": [
    "env.reset()\n",
    "\n",
    "\n",
    "measurement_log=np.zeros(((len(action_series_df)+1),4))\n",
    "measurement_log[0,:]=env.obs[:]\n",
    "\n",
    "for i in range(len(action_series_df)):\n",
    "    env.step(action_series_df.iloc[i,:].values)\n",
    "    measurement_log[i+1,:]=env.obs[:]"
   ]
  },
  {
   "cell_type": "code",
   "execution_count": 9,
   "metadata": {},
   "outputs": [],
   "source": [
    "from loess import loess_1d\n",
    "from sklearn import linear_model\n",
    "import matplotlib.pyplot as plt"
   ]
  },
  {
   "cell_type": "code",
   "execution_count": 192,
   "metadata": {},
   "outputs": [],
   "source": [
    "x=measurement_log[0:41,0]\n",
    "y=measurement_log[0:41,1]\n",
    "\n",
    "t=measurement_log[0:43, 2]\n",
    "v=measurement_log[0:43, 3]\n",
    "\n",
    "fglobal=loess_1d.loess_1d(x=t,y=v, xnew=t)"
   ]
  },
  {
   "cell_type": "code",
   "execution_count": 193,
   "metadata": {},
   "outputs": [],
   "source": [
    "r_i=v-fglobal[1]"
   ]
  },
  {
   "cell_type": "code",
   "execution_count": 194,
   "metadata": {},
   "outputs": [
    {
     "data": {
      "text/plain": [
       "array([ 1.75066992,  0.0363743 ,  0.25288971,  0.21116916,  0.20733578,\n",
       "       -0.16529704, -0.18132906, -0.18410037, -0.35843187, -0.12760394,\n",
       "       -0.15060616, -0.12799905, -0.09337238, -0.1532394 , -0.12451246,\n",
       "       -0.18882327, -0.4480207 , -0.08024095,  0.12221331, -0.14206057,\n",
       "        0.31904864,  0.03848576,  0.21118997, -0.03104563,  0.07396052,\n",
       "        0.02935619,  0.13668808, -0.1341631 ,  0.2231979 , -0.16065436,\n",
       "       -0.54786108,  0.0784954 , -0.29045911, -0.03763806, -0.21550282,\n",
       "        0.10143282, -0.133106  , -0.01307745,  0.10332728, -0.06553507,\n",
       "        0.20798945,  0.0025982 ,  0.0025982 ])"
      ]
     },
     "execution_count": 194,
     "metadata": {},
     "output_type": "execute_result"
    }
   ],
   "source": [
    "r_i"
   ]
  },
  {
   "cell_type": "code",
   "execution_count": 266,
   "metadata": {},
   "outputs": [],
   "source": [
    "nor_measurement_log=np.zeros((43,3))\n",
    "for i in range(3):\n",
    "    nor_measurement_log[:,i]=(measurement_log[:,i]-measurement_log[:,i].min())/(measurement_log[:,i].max()-measurement_log[:,i].min())"
   ]
  },
  {
   "cell_type": "code",
   "execution_count": 267,
   "metadata": {},
   "outputs": [
    {
     "data": {
      "text/plain": [
       "LinearRegression()"
      ]
     },
     "execution_count": 267,
     "metadata": {},
     "output_type": "execute_result"
    }
   ],
   "source": [
    "reg=linear_model.LinearRegression()\n",
    "reg.fit(nor_measurement_log[:, 0:3], r_i)"
   ]
  },
  {
   "cell_type": "code",
   "execution_count": 268,
   "metadata": {},
   "outputs": [
    {
     "data": {
      "text/plain": [
       "array([ 0.72525755, -0.28781809, -0.96649837])"
      ]
     },
     "execution_count": 268,
     "metadata": {},
     "output_type": "execute_result"
    }
   ],
   "source": [
    "reg.coef_"
   ]
  },
  {
   "cell_type": "code",
   "execution_count": 269,
   "metadata": {},
   "outputs": [
    {
     "data": {
      "text/plain": [
       "0.2292211188263971"
      ]
     },
     "execution_count": 269,
     "metadata": {},
     "output_type": "execute_result"
    }
   ],
   "source": [
    "reg.intercept_"
   ]
  },
  {
   "cell_type": "code",
   "execution_count": 270,
   "metadata": {},
   "outputs": [],
   "source": [
    "target_time=2000\n",
    "\n",
    "xgrid=np.mgrid[-0.5:73.55:100j, -3:22.95:100j]\n",
    "xflat = xgrid.reshape(2, -1).T\n",
    "t_array=np.zeros((10000,1))+target_time\n",
    "xflat=np.concatenate([xflat, t_array], axis=1)\n",
    "\n",
    "nor_xflat=np.zeros((10000,3))\n",
    "for i in range(3):\n",
    "    nor_xflat[:,i]=(xflat[:,i]-measurement_log[:,i].min())/(measurement_log[:,i].max()-measurement_log[:,i].min())\n",
    "    \n",
    "\n",
    "fglobal=loess_1d.loess_1d(x=t,y=v, xnew=np.array([target_time]))\n",
    "\n",
    "newz=fglobal[1]+reg.intercept_+reg.coef_[0]*nor_xflat[:,0]+reg.coef_[1]*nor_xflat[:,1]+reg.coef_[2]*nor_xflat[:,2]"
   ]
  },
  {
   "cell_type": "code",
   "execution_count": 271,
   "metadata": {},
   "outputs": [],
   "source": [
    "data=env.stdata[['X', 'Y']]\n",
    "\n",
    "delta=1.5\n",
    "\n",
    "for i in range(10000):\n",
    "    bb=xflat[i,:]\n",
    "    judge_array=[0,0,0,0]\n",
    "    window_data=data.loc[(data['X']>(bb[0]-delta)) & (data['X']<(bb[0]+delta)) & \n",
    "    (data['Y']>(bb[1]-delta)) & (data['Y']<(bb[1]+delta)), ['X', 'Y']]\n",
    "    judge_array[0]=window_data.loc[(window_data['X']<bb[0]) & (window_data['Y']<bb[1])].empty\n",
    "    judge_array[1]=window_data.loc[(window_data['X']<bb[0]) & (window_data['Y']>bb[1])].empty\n",
    "    judge_array[2]=window_data.loc[(window_data['X']>bb[0]) & (window_data['Y']<bb[1])].empty\n",
    "    judge_array[3]=window_data.loc[(window_data['X']>bb[0]) & (window_data['Y']>bb[1])].empty\n",
    "    if True in judge_array:\n",
    "        newz[i]=np.nan \n",
    "\n",
    "\n",
    "ygrid = newz.reshape(100, 100)"
   ]
  },
  {
   "cell_type": "code",
   "execution_count": 272,
   "metadata": {},
   "outputs": [
    {
     "data": {
      "text/plain": [
       "(-0.5, 73.55, -3.0, 22.95)"
      ]
     },
     "execution_count": 272,
     "metadata": {},
     "output_type": "execute_result"
    },
    {
     "data": {
      "image/png": "[encoded data removed]",
      "text/plain": [
       "<Figure size 1296x432 with 2 Axes>"
      ]
     },
     "metadata": {
      "needs_background": "light"
     },
     "output_type": "display_data"
    }
   ],
   "source": [
    "fig, ax=plt.subplots(1,1,figsize=(18,6))\n",
    "im=ax.pcolormesh(*xgrid, ygrid, shading='auto', cmap='rainbow', vmin=293, vmax=298)\n",
    "im_m=ax.plot(x, y, \"ok\", label=\"input point\")\n",
    "\n",
    "ax.set_xlim(-0.5,73.55)\n",
    "ax.set_ylim(-3,22.95)\n",
    "cbar=fig.colorbar(im, orientation='vertical', label='Temperature (K)')\n",
    "\n",
    "ax.spines['left'].set_visible(False)\n",
    "ax.spines['top'].set_visible(False)\n",
    "ax.spines['right'].set_visible(False)\n",
    "ax.spines['bottom'].set_visible(False)\n",
    "ax.axis('off')"
   ]
  },
  {
   "cell_type": "code",
   "execution_count": 282,
   "metadata": {},
   "outputs": [
    {
     "data": {
      "text/plain": [
       "Ridge(alpha=0.5)"
      ]
     },
     "execution_count": 282,
     "metadata": {},
     "output_type": "execute_result"
    }
   ],
   "source": [
    "reg=linear_model.Ridge(alpha=0.5)\n",
    "reg.fit(nor_measurement_log[:, 0:3], r_i)"
   ]
  },
  {
   "cell_type": "code",
   "execution_count": 283,
   "metadata": {},
   "outputs": [
    {
     "data": {
      "text/plain": [
       "array([-0.08450267, -0.24728199, -0.10710333])"
      ]
     },
     "execution_count": 283,
     "metadata": {},
     "output_type": "execute_result"
    }
   ],
   "source": [
    "reg.coef_"
   ]
  },
  {
   "cell_type": "code",
   "execution_count": 284,
   "metadata": {},
   "outputs": [
    {
     "data": {
      "text/plain": [
       "0.1936501961329152"
      ]
     },
     "execution_count": 284,
     "metadata": {},
     "output_type": "execute_result"
    }
   ],
   "source": [
    "reg.intercept_"
   ]
  },
  {
   "cell_type": "code",
   "execution_count": 277,
   "metadata": {},
   "outputs": [],
   "source": [
    "target_time=2000\n",
    "\n",
    "xgrid=np.mgrid[-0.5:73.55:100j, -3:22.95:100j]\n",
    "xflat = xgrid.reshape(2, -1).T\n",
    "t_array=np.zeros((10000,1))+target_time\n",
    "xflat=np.concatenate([xflat, t_array], axis=1)\n",
    "\n",
    "nor_xflat=np.zeros((10000,3))\n",
    "for i in range(3):\n",
    "    nor_xflat[:,i]=(xflat[:,i]-measurement_log[:,i].min())/(measurement_log[:,i].max()-measurement_log[:,i].min())\n",
    "    \n",
    "\n",
    "fglobal=loess_1d.loess_1d(x=t,y=v, xnew=np.array([target_time]))\n",
    "\n",
    "newz=fglobal[1]+reg.intercept_+reg.coef_[0]*nor_xflat[:,0]+reg.coef_[1]*nor_xflat[:,1]+reg.coef_[2]*nor_xflat[:,2]"
   ]
  },
  {
   "cell_type": "code",
   "execution_count": 278,
   "metadata": {},
   "outputs": [],
   "source": [
    "data=env.stdata[['X', 'Y']]\n",
    "\n",
    "delta=1.5\n",
    "\n",
    "for i in range(10000):\n",
    "    bb=xflat[i,:]\n",
    "    judge_array=[0,0,0,0]\n",
    "    window_data=data.loc[(data['X']>(bb[0]-delta)) & (data['X']<(bb[0]+delta)) & \n",
    "    (data['Y']>(bb[1]-delta)) & (data['Y']<(bb[1]+delta)), ['X', 'Y']]\n",
    "    judge_array[0]=window_data.loc[(window_data['X']<bb[0]) & (window_data['Y']<bb[1])].empty\n",
    "    judge_array[1]=window_data.loc[(window_data['X']<bb[0]) & (window_data['Y']>bb[1])].empty\n",
    "    judge_array[2]=window_data.loc[(window_data['X']>bb[0]) & (window_data['Y']<bb[1])].empty\n",
    "    judge_array[3]=window_data.loc[(window_data['X']>bb[0]) & (window_data['Y']>bb[1])].empty\n",
    "    if True in judge_array:\n",
    "        newz[i]=np.nan \n",
    "\n",
    "\n",
    "ygrid = newz.reshape(100, 100)"
   ]
  },
  {
   "cell_type": "code",
   "execution_count": 286,
   "metadata": {},
   "outputs": [
    {
     "data": {
      "text/plain": [
       "(-0.5, 73.55, -3.0, 22.95)"
      ]
     },
     "execution_count": 286,
     "metadata": {},
     "output_type": "execute_result"
    },
    {
     "data": {
      "image/png": "[encoded data removed]",
      "text/plain": [
       "<Figure size 1296x432 with 2 Axes>"
      ]
     },
     "metadata": {
      "needs_background": "light"
     },
     "output_type": "display_data"
    }
   ],
   "source": [
    "fig, ax=plt.subplots(1,1,figsize=(18,6))\n",
    "im=ax.pcolormesh(*xgrid, ygrid, shading='auto', cmap='rainbow', vmin=293, vmax=298)\n",
    "im_m=ax.plot(x, y, \"ok\", label=\"input point\")\n",
    "\n",
    "ax.set_xlim(-0.5,73.55)\n",
    "ax.set_ylim(-3,22.95)\n",
    "cbar=fig.colorbar(im, orientation='vertical', label='Temperature (K)')\n",
    "\n",
    "ax.spines['left'].set_visible(False)\n",
    "ax.spines['top'].set_visible(False)\n",
    "ax.spines['right'].set_visible(False)\n",
    "ax.spines['bottom'].set_visible(False)\n",
    "ax.axis('off')"
   ]
  },
  {
   "cell_type": "code",
   "execution_count": 294,
   "metadata": {},
   "outputs": [],
   "source": [
    "reg=linear_model.Lasso(alpha=0.1)\n",
    "reg.fit(nor_measurement_log[:, 0:3], r_i)\n",
    "target_time=2000\n",
    "\n",
    "xgrid=np.mgrid[-0.5:73.55:100j, -3:22.95:100j]\n",
    "xflat = xgrid.reshape(2, -1).T\n",
    "t_array=np.zeros((10000,1))+target_time\n",
    "xflat=np.concatenate([xflat, t_array], axis=1)\n",
    "\n",
    "nor_xflat=np.zeros((10000,3))\n",
    "for i in range(3):\n",
    "    nor_xflat[:,i]=(xflat[:,i]-measurement_log[:,i].min())/(measurement_log[:,i].max()-measurement_log[:,i].min())\n",
    "    \n",
    "\n",
    "fglobal=loess_1d.loess_1d(x=t,y=v, xnew=np.array([target_time]))\n",
    "\n",
    "newz=reg.predict(nor_xflat)+fglobal[1]\n"
   ]
  },
  {
   "cell_type": "code",
   "execution_count": 296,
   "metadata": {},
   "outputs": [
    {
     "data": {
      "text/plain": [
       "array([296.79375205])"
      ]
     },
     "execution_count": 296,
     "metadata": {},
     "output_type": "execute_result"
    }
   ],
   "source": [
    "fglobal[1]"
   ]
  },
  {
   "cell_type": "code",
   "execution_count": 298,
   "metadata": {},
   "outputs": [
    {
     "data": {
      "text/plain": [
       "array([-0.00106184, -0.00106184, -0.00106184, ..., -0.00106184,\n",
       "       -0.00106184, -0.00106184])"
      ]
     },
     "execution_count": 298,
     "metadata": {},
     "output_type": "execute_result"
    }
   ],
   "source": [
    "reg.predict(nor_xflat)"
   ]
  },
  {
   "cell_type": "code",
   "execution_count": 299,
   "metadata": {},
   "outputs": [
    {
     "data": {
      "text/plain": [
       "array([[-0.06349206, -0.09090909,  0.99750623],\n",
       "       [-0.06349206, -0.07899449,  0.99750623],\n",
       "       [-0.06349206, -0.06707989,  0.99750623],\n",
       "       ...,\n",
       "       [ 1.11190476,  1.06480716,  0.99750623],\n",
       "       [ 1.11190476,  1.07672176,  0.99750623],\n",
       "       [ 1.11190476,  1.08863636,  0.99750623]])"
      ]
     },
     "execution_count": 299,
     "metadata": {},
     "output_type": "execute_result"
    }
   ],
   "source": [
    "nor_xflat"
   ]
  },
  {
   "cell_type": "code",
   "execution_count": 300,
   "metadata": {},
   "outputs": [
    {
     "data": {
      "text/plain": [
       "array([[0.        , 0.18181818, 0.        ],\n",
       "       [0.        , 0.40909091, 0.01995012],\n",
       "       [0.        , 0.63636364, 0.03990025],\n",
       "       [0.07142857, 0.63636364, 0.06982544],\n",
       "       [0.07142857, 0.40909091, 0.08977556],\n",
       "       [0.07142857, 0.18181818, 0.10972569],\n",
       "       [0.14285714, 0.18181818, 0.13965087],\n",
       "       [0.14285714, 0.40909091, 0.159601  ],\n",
       "       [0.14285714, 0.63636364, 0.17955112],\n",
       "       [0.21428571, 0.63636364, 0.20947631],\n",
       "       [0.21428571, 0.38636364, 0.24438903],\n",
       "       [0.28571429, 0.38636364, 0.27431421],\n",
       "       [0.28571429, 0.63636364, 0.30922693],\n",
       "       [0.35714286, 0.63636364, 0.33915212],\n",
       "       [0.35714286, 0.40909091, 0.35910224],\n",
       "       [0.35714286, 0.18181818, 0.37905237],\n",
       "       [0.42857143, 0.18181818, 0.40897756],\n",
       "       [0.42857143, 0.45454545, 0.43142145],\n",
       "       [0.5       , 0.45454545, 0.46134663],\n",
       "       [0.5       , 0.22727273, 0.48129676],\n",
       "       [0.5       , 0.        , 0.50124688],\n",
       "       [0.57142857, 0.        , 0.53117207],\n",
       "       [0.57142857, 0.22727273, 0.55112219],\n",
       "       [0.57142857, 0.45454545, 0.57107232],\n",
       "       [0.64285714, 0.45454545, 0.60099751],\n",
       "       [0.64285714, 0.22727273, 0.62094763],\n",
       "       [0.64285714, 0.        , 0.64089776],\n",
       "       [0.71428571, 0.        , 0.67082294],\n",
       "       [0.71428571, 0.22727273, 0.69077307],\n",
       "       [0.71428571, 0.45454545, 0.71072319],\n",
       "       [0.78571429, 0.45454545, 0.74064838],\n",
       "       [0.78571429, 0.72727273, 0.76309227],\n",
       "       [0.78571429, 1.        , 0.78553616],\n",
       "       [0.85714286, 1.        , 0.81546135],\n",
       "       [0.85714286, 0.72727273, 0.83790524],\n",
       "       [0.85714286, 0.45454545, 0.86034913],\n",
       "       [0.92857143, 0.45454545, 0.89027431],\n",
       "       [0.92857143, 0.22727273, 0.91022444],\n",
       "       [0.92857143, 0.        , 0.93017456],\n",
       "       [1.        , 0.        , 0.96009975],\n",
       "       [1.        , 0.22727273, 0.98004988],\n",
       "       [1.        , 0.45454545, 1.        ],\n",
       "       [1.        , 0.45454545, 1.        ]])"
      ]
     },
     "execution_count": 300,
     "metadata": {},
     "output_type": "execute_result"
    }
   ],
   "source": [
    "nor_measurement_log[:, 0:3]"
   ]
  },
  {
   "cell_type": "code",
   "execution_count": 289,
   "metadata": {},
   "outputs": [],
   "source": [
    "data=env.stdata[['X', 'Y']]\n",
    "\n",
    "delta=1.5\n",
    "\n",
    "for i in range(10000):\n",
    "    bb=xflat[i,:]\n",
    "    judge_array=[0,0,0,0]\n",
    "    window_data=data.loc[(data['X']>(bb[0]-delta)) & (data['X']<(bb[0]+delta)) & \n",
    "    (data['Y']>(bb[1]-delta)) & (data['Y']<(bb[1]+delta)), ['X', 'Y']]\n",
    "    judge_array[0]=window_data.loc[(window_data['X']<bb[0]) & (window_data['Y']<bb[1])].empty\n",
    "    judge_array[1]=window_data.loc[(window_data['X']<bb[0]) & (window_data['Y']>bb[1])].empty\n",
    "    judge_array[2]=window_data.loc[(window_data['X']>bb[0]) & (window_data['Y']<bb[1])].empty\n",
    "    judge_array[3]=window_data.loc[(window_data['X']>bb[0]) & (window_data['Y']>bb[1])].empty\n",
    "    if True in judge_array:\n",
    "        newz[i]=np.nan \n",
    "\n",
    "\n",
    "ygrid = newz.reshape(100, 100)"
   ]
  },
  {
   "cell_type": "code",
   "execution_count": 293,
   "metadata": {},
   "outputs": [
    {
     "data": {
      "text/plain": [
       "(-0.5, 73.55, -3.0, 22.95)"
      ]
     },
     "execution_count": 293,
     "metadata": {},
     "output_type": "execute_result"
    },
    {
     "data": {
      "image/png": "[encoded data removed]",
      "text/plain": [
       "<Figure size 1296x432 with 2 Axes>"
      ]
     },
     "metadata": {
      "needs_background": "light"
     },
     "output_type": "display_data"
    }
   ],
   "source": [
    "fig, ax=plt.subplots(1,1,figsize=(18,6))\n",
    "im=ax.pcolormesh(*xgrid, ygrid, shading='auto', cmap='rainbow')\n",
    "im_m=ax.plot(x, y, \"ok\", label=\"input point\")\n",
    "\n",
    "ax.set_xlim(-0.5,73.55)\n",
    "ax.set_ylim(-3,22.95)\n",
    "cbar=fig.colorbar(im, orientation='vertical', label='Temperature (K)')\n",
    "\n",
    "ax.spines['left'].set_visible(False)\n",
    "ax.spines['top'].set_visible(False)\n",
    "ax.spines['right'].set_visible(False)\n",
    "ax.spines['bottom'].set_visible(False)\n",
    "ax.axis('off')"
   ]
  },
  {
   "cell_type": "code",
   "execution_count": 210,
   "metadata": {},
   "outputs": [],
   "source": [
    "from sklearn import svm"
   ]
  },
  {
   "cell_type": "code",
   "execution_count": 211,
   "metadata": {},
   "outputs": [
    {
     "data": {
      "text/plain": [
       "SVR()"
      ]
     },
     "execution_count": 211,
     "metadata": {},
     "output_type": "execute_result"
    }
   ],
   "source": [
    "regr=svm.SVR()\n",
    "regr.fit(measurement_log[:, 0:3], r_i)"
   ]
  },
  {
   "cell_type": "code",
   "execution_count": 212,
   "metadata": {},
   "outputs": [],
   "source": [
    "target_time=2000\n",
    "\n",
    "xgrid=np.mgrid[-0.5:73.55:100j, -3:22.95:100j]\n",
    "xflat = xgrid.reshape(2, -1).T\n",
    "t_array=np.zeros((10000,1))+target_time\n",
    "xflat=np.concatenate([xflat, t_array], axis=1)\n",
    "\n",
    "fglobal=loess_1d.loess_1d(x=t,y=v, xnew=np.array([target_time]))\n",
    "\n",
    "newz=regr.predict(xflat)+fglobal[1]"
   ]
  },
  {
   "cell_type": "code",
   "execution_count": 213,
   "metadata": {},
   "outputs": [],
   "source": [
    "data=env.stdata[['X', 'Y']]\n",
    "\n",
    "delta=1.5\n",
    "\n",
    "for i in range(10000):\n",
    "    bb=xflat[i,:]\n",
    "    judge_array=[0,0,0,0]\n",
    "    window_data=data.loc[(data['X']>(bb[0]-delta)) & (data['X']<(bb[0]+delta)) & \n",
    "    (data['Y']>(bb[1]-delta)) & (data['Y']<(bb[1]+delta)), ['X', 'Y']]\n",
    "    judge_array[0]=window_data.loc[(window_data['X']<bb[0]) & (window_data['Y']<bb[1])].empty\n",
    "    judge_array[1]=window_data.loc[(window_data['X']<bb[0]) & (window_data['Y']>bb[1])].empty\n",
    "    judge_array[2]=window_data.loc[(window_data['X']>bb[0]) & (window_data['Y']<bb[1])].empty\n",
    "    judge_array[3]=window_data.loc[(window_data['X']>bb[0]) & (window_data['Y']>bb[1])].empty\n",
    "    if True in judge_array:\n",
    "        newz[i]=np.nan \n",
    "\n",
    "\n",
    "ygrid = newz.reshape(100, 100)"
   ]
  },
  {
   "cell_type": "code",
   "execution_count": 214,
   "metadata": {},
   "outputs": [
    {
     "data": {
      "text/plain": [
       "(-0.5, 73.55, -3.0, 22.95)"
      ]
     },
     "execution_count": 214,
     "metadata": {},
     "output_type": "execute_result"
    },
    {
     "data": {
      "image/png": "[encoded data removed]",
      "text/plain": [
       "<Figure size 1296x432 with 2 Axes>"
      ]
     },
     "metadata": {
      "needs_background": "light"
     },
     "output_type": "display_data"
    }
   ],
   "source": [
    "fig, ax=plt.subplots(1,1,figsize=(18,6))\n",
    "im=ax.pcolormesh(*xgrid, ygrid, shading='auto', cmap='rainbow', vmin=293, vmax=298)\n",
    "im_m=ax.plot(x, y, \"ok\", label=\"input point\")\n",
    "\n",
    "ax.set_xlim(-0.5,73.55)\n",
    "ax.set_ylim(-3,22.95)\n",
    "cbar=fig.colorbar(im, orientation='vertical', label='Temperature (K)')\n",
    "\n",
    "ax.spines['left'].set_visible(False)\n",
    "ax.spines['top'].set_visible(False)\n",
    "ax.spines['right'].set_visible(False)\n",
    "ax.spines['bottom'].set_visible(False)\n",
    "ax.axis('off')"
   ]
  },
  {
   "cell_type": "code",
   "execution_count": null,
   "metadata": {},
   "outputs": [],
   "source": []
  }
 ],
 "metadata": {
  "kernelspec": {
   "display_name": "Python 3.9.12 ('base')",
   "language": "python",
   "name": "python3"
  },
  "language_info": {
   "codemirror_mode": {
    "name": "ipython",
    "version": 3
   },
   "file_extension": ".py",
   "mimetype": "text/x-python",
   "name": "python",
   "nbconvert_exporter": "python",
   "pygments_lexer": "ipython3",
   "version": "3.9.12"
  },
  "orig_nbformat": 4,
  "vscode": {
   "interpreter": {
    "hash": "ad2bdc8ecc057115af97d19610ffacc2b4e99fae6737bb82f5d7fb13d2f2c186"
   }
  }
 },
 "nbformat": 4,
 "nbformat_minor": 2
}
