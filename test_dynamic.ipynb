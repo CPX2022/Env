{
 "cells": [
  {
   "cell_type": "code",
   "execution_count": 1,
   "metadata": {},
   "outputs": [],
   "source": [
    "import sys\n",
    "PATH_TO_ROOT='D:/My Repository'\n",
    "sys.path.insert(0, PATH_TO_ROOT)"
   ]
  },
  {
   "cell_type": "code",
   "execution_count": 2,
   "metadata": {},
   "outputs": [],
   "source": [
    "import pandas as pd\n",
    "import numpy as np\n",
    "from AlphaMobileSensing import Msenseing"
   ]
  },
  {
   "cell_type": "code",
   "execution_count": 3,
   "metadata": {},
   "outputs": [
    {
     "name": "stderr",
     "output_type": "stream",
     "text": [
      "C:\\Users\\qizho\\AppData\\Roaming\\Python\\Python39\\site-packages\\gym\\spaces\\box.py:112: UserWarning: \u001b[33mWARN: Box bound precision lowered by casting to float64\u001b[0m\n",
      "  logger.warn(f\"Box bound precision lowered by casting to {self.dtype}\")\n"
     ]
    }
   ],
   "source": [
    "datapath='D:/Research Working Folder/Paper_1-Mobile Sensing Virtual Environment/dynamic_50cm_DEMO_new.csv'\n",
    "\n",
    "\n",
    "env=Msenseing.AlphaMoSeEnv(datapath, 2500, 1, 15, (3.5, 3), 2, (0.5, 0.5), 500)"
   ]
  },
  {
   "cell_type": "code",
   "execution_count": 4,
   "metadata": {},
   "outputs": [],
   "source": [
    "action_series_df=pd.read_excel('D:/Research Working Folder/Paper_1-Mobile Sensing Virtual Environment/action series for test.xlsx')"
   ]
  },
  {
   "cell_type": "code",
   "execution_count": 5,
   "metadata": {},
   "outputs": [
    {
     "name": "stdout",
     "output_type": "stream",
     "text": [
      "Episode: 1\n",
      "Total moving distance (m)\n",
      "204.0\n",
      "Total moving time (s)\n",
      "1390.0\n"
     ]
    }
   ],
   "source": [
    "env.reset()\n",
    "\n",
    "\n",
    "measurement_log=np.zeros(((len(action_series_df)+1),4))\n",
    "measurement_log[0,:]=env.obs[:]\n",
    "\n",
    "for i in range(len(action_series_df)):\n",
    "    env.step(action_series_df.iloc[i,:].values)\n",
    "    measurement_log[i+1,:]=env.obs[:]"
   ]
  },
  {
   "cell_type": "code",
   "execution_count": 7,
   "metadata": {},
   "outputs": [],
   "source": [
    "x=measurement_log[0:41,0]\n",
    "y=measurement_log[0:41,1]\n",
    "T=measurement_log[0:41,3]\n",
    "\n",
    "X = np.linspace(-0.5, 73.55, 100)\n",
    "Y = np.linspace(-3, 22.95, 100)\n",
    "\n",
    "X, Y = np.meshgrid(X, Y) \n",
    "\n",
    "from scipy.interpolate import LinearNDInterpolator\n",
    "from scipy.interpolate import NearestNDInterpolator\n",
    "import matplotlib.pyplot as plt\n",
    "#interp = LinearNDInterpolator(list(zip(x, y)), T)\n",
    "interp = NearestNDInterpolator(list(zip(x, y)), T)\n",
    "\n",
    "Z = interp(X, Y)\n"
   ]
  },
  {
   "cell_type": "code",
   "execution_count": 8,
   "metadata": {},
   "outputs": [],
   "source": [
    "data=env.stdata[['X', 'Y']]\n",
    "\n",
    "delta=1.5\n",
    "\n",
    "for i in range(100):\n",
    "    for j in range(100):\n",
    "        bb=np.array([X[0,i], Y[j,0]])\n",
    "        judge_array=[0,0,0,0]\n",
    "        window_data=data.loc[(data['X']>(bb[0]-delta)) & (data['X']<(bb[0]+delta)) & \n",
    "        (data['Y']>(bb[1]-delta)) & (data['Y']<(bb[1]+delta)), ['X', 'Y']]\n",
    "        judge_array[0]=window_data.loc[(window_data['X']<bb[0]) & (window_data['Y']<bb[1])].empty\n",
    "        judge_array[1]=window_data.loc[(window_data['X']<bb[0]) & (window_data['Y']>bb[1])].empty\n",
    "        judge_array[2]=window_data.loc[(window_data['X']>bb[0]) & (window_data['Y']<bb[1])].empty\n",
    "        judge_array[3]=window_data.loc[(window_data['X']>bb[0]) & (window_data['Y']>bb[1])].empty\n",
    "        if True in judge_array:\n",
    "            Z[j,i]=np.nan "
   ]
  },
  {
   "cell_type": "code",
   "execution_count": 9,
   "metadata": {},
   "outputs": [
    {
     "data": {
      "text/plain": [
       "(-0.5, 73.55, -3.0, 22.95)"
      ]
     },
     "execution_count": 9,
     "metadata": {},
     "output_type": "execute_result"
    },
    {
     "data": {
      "image/png": "[encoded data removed]",
      "text/plain": [
       "<Figure size 1296x432 with 2 Axes>"
      ]
     },
     "metadata": {
      "needs_background": "light"
     },
     "output_type": "display_data"
    }
   ],
   "source": [
    "fig, ax=plt.subplots(1,1,figsize=(18,6))\n",
    "im=ax.pcolormesh(X, Y, Z, shading='auto', cmap='rainbow', vmin=293, vmax=313)\n",
    "im_m=ax.plot(x, y, \"ok\", label=\"input point\")\n",
    "\n",
    "\n",
    "ax.set_xlim(-0.5,73.55)\n",
    "ax.set_ylim(-3,22.95)\n",
    "cbar=fig.colorbar(im, orientation='vertical', label='Temperature (K)')\n",
    "\n",
    "ax.spines['left'].set_visible(False)\n",
    "ax.spines['top'].set_visible(False)\n",
    "ax.spines['right'].set_visible(False)\n",
    "ax.spines['bottom'].set_visible(False)\n",
    "ax.axis('off')"
   ]
  },
  {
   "cell_type": "code",
   "execution_count": null,
   "metadata": {},
   "outputs": [],
   "source": []
  }
 ],
 "metadata": {
  "kernelspec": {
   "display_name": "Python 3.9.12 ('base')",
   "language": "python",
   "name": "python3"
  },
  "language_info": {
   "codemirror_mode": {
    "name": "ipython",
    "version": 3
   },
   "file_extension": ".py",
   "mimetype": "text/x-python",
   "name": "python",
   "nbconvert_exporter": "python",
   "pygments_lexer": "ipython3",
   "version": "3.9.12"
  },
  "orig_nbformat": 4,
  "vscode": {
   "interpreter": {
    "hash": "ad2bdc8ecc057115af97d19610ffacc2b4e99fae6737bb82f5d7fb13d2f2c186"
   }
  }
 },
 "nbformat": 4,
 "nbformat_minor": 2
}
